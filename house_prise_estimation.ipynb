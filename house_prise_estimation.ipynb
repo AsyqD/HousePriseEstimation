{
 "cells": [
  {
   "cell_type": "code",
   "execution_count": 4,
   "metadata": {},
   "outputs": [],
   "source": [
    "import numpy as np\n",
    "import pandas as pd\n",
    "import xgboost as xgb\n",
    "import catboost as catb\n",
    "import lightgbm as lgb \n",
    "import matplotlib.pyplot as plt\n",
    "import seaborn as sns\n",
    "\n",
    "    "
   ]
  },
  {
   "cell_type": "code",
   "execution_count": 3,
   "metadata": {},
   "outputs": [
    {
     "data": {
      "text/html": [
       "<div>\n",
       "<style scoped>\n",
       "    .dataframe tbody tr th:only-of-type {\n",
       "        vertical-align: middle;\n",
       "    }\n",
       "\n",
       "    .dataframe tbody tr th {\n",
       "        vertical-align: top;\n",
       "    }\n",
       "\n",
       "    .dataframe thead th {\n",
       "        text-align: right;\n",
       "    }\n",
       "</style>\n",
       "<table border=\"1\" class=\"dataframe\">\n",
       "  <thead>\n",
       "    <tr style=\"text-align: right;\">\n",
       "      <th></th>\n",
       "      <th>numrooms</th>\n",
       "      <th>sqauremeters</th>\n",
       "      <th>levels_on_building</th>\n",
       "      <th>level</th>\n",
       "      <th>price</th>\n",
       "      <th>distrcit</th>\n",
       "      <th>microdistrict</th>\n",
       "      <th>street</th>\n",
       "      <th>builtyear</th>\n",
       "      <th>ceilinghight</th>\n",
       "      <th>seller</th>\n",
       "      <th>bathroomtype</th>\n",
       "      <th>repaired</th>\n",
       "    </tr>\n",
       "  </thead>\n",
       "  <tbody>\n",
       "    <tr>\n",
       "      <th>0</th>\n",
       "      <td>2</td>\n",
       "      <td>56.7</td>\n",
       "      <td>9.0</td>\n",
       "      <td>3.0</td>\n",
       "      <td>38000000</td>\n",
       "      <td>жетысуский</td>\n",
       "      <td>NaN</td>\n",
       "      <td>райымбека 245б — проспект райымбека</td>\n",
       "      <td>2006</td>\n",
       "      <td>2.70</td>\n",
       "      <td>Хозяин недвижимости</td>\n",
       "      <td>раздельный</td>\n",
       "      <td>NaN</td>\n",
       "    </tr>\n",
       "    <tr>\n",
       "      <th>1</th>\n",
       "      <td>3</td>\n",
       "      <td>100.0</td>\n",
       "      <td>16.0</td>\n",
       "      <td>13.0</td>\n",
       "      <td>59000000</td>\n",
       "      <td>бостандыкский</td>\n",
       "      <td>NaN</td>\n",
       "      <td>сатпаева 90/43а</td>\n",
       "      <td>2019</td>\n",
       "      <td>2.85</td>\n",
       "      <td>Специалист</td>\n",
       "      <td>NaN</td>\n",
       "      <td>черновая отделка</td>\n",
       "    </tr>\n",
       "    <tr>\n",
       "      <th>2</th>\n",
       "      <td>1</td>\n",
       "      <td>45.8</td>\n",
       "      <td>10.0</td>\n",
       "      <td>3.0</td>\n",
       "      <td>59600000</td>\n",
       "      <td>бостандыкский</td>\n",
       "      <td>NaN</td>\n",
       "      <td>радостовца 270</td>\n",
       "      <td>2022</td>\n",
       "      <td>3.00</td>\n",
       "      <td>Специалист</td>\n",
       "      <td>совмещенный</td>\n",
       "      <td>дргуой ремонт</td>\n",
       "    </tr>\n",
       "    <tr>\n",
       "      <th>3</th>\n",
       "      <td>2</td>\n",
       "      <td>67.0</td>\n",
       "      <td>5.0</td>\n",
       "      <td>4.0</td>\n",
       "      <td>28400000</td>\n",
       "      <td>алатауский</td>\n",
       "      <td>мкр зердели (алгабас-6) 1/36 — момышулы монке би</td>\n",
       "      <td>NaN</td>\n",
       "      <td>2012</td>\n",
       "      <td>2.80</td>\n",
       "      <td>Специалист</td>\n",
       "      <td>раздельный</td>\n",
       "      <td>после ремонта</td>\n",
       "    </tr>\n",
       "    <tr>\n",
       "      <th>4</th>\n",
       "      <td>3</td>\n",
       "      <td>93.0</td>\n",
       "      <td>9.0</td>\n",
       "      <td>2.0</td>\n",
       "      <td>55000000</td>\n",
       "      <td>алатауский</td>\n",
       "      <td>мкр нуркент (алгабас-1)</td>\n",
       "      <td>NaN</td>\n",
       "      <td>2018</td>\n",
       "      <td>3.00</td>\n",
       "      <td>Хозяин недвижимости</td>\n",
       "      <td>2 с/у и более</td>\n",
       "      <td>дргуой ремонт</td>\n",
       "    </tr>\n",
       "  </tbody>\n",
       "</table>\n",
       "</div>"
      ],
      "text/plain": [
       "   numrooms  sqauremeters  levels_on_building  level     price       distrcit  \\\n",
       "0         2          56.7                 9.0    3.0  38000000     жетысуский   \n",
       "1         3         100.0                16.0   13.0  59000000  бостандыкский   \n",
       "2         1          45.8                10.0    3.0  59600000  бостандыкский   \n",
       "3         2          67.0                 5.0    4.0  28400000     алатауский   \n",
       "4         3          93.0                 9.0    2.0  55000000     алатауский   \n",
       "\n",
       "                                      microdistrict  \\\n",
       "0                                               NaN   \n",
       "1                                               NaN   \n",
       "2                                               NaN   \n",
       "3  мкр зердели (алгабас-6) 1/36 — момышулы монке би   \n",
       "4                           мкр нуркент (алгабас-1)   \n",
       "\n",
       "                                street  builtyear  ceilinghight  \\\n",
       "0  райымбека 245б — проспект райымбека       2006          2.70   \n",
       "1                      сатпаева 90/43а       2019          2.85   \n",
       "2                       радостовца 270       2022          3.00   \n",
       "3                                  NaN       2012          2.80   \n",
       "4                                  NaN       2018          3.00   \n",
       "\n",
       "                seller   bathroomtype          repaired  \n",
       "0  Хозяин недвижимости     раздельный               NaN  \n",
       "1           Специалист            NaN  черновая отделка  \n",
       "2           Специалист    совмещенный     дргуой ремонт  \n",
       "3           Специалист     раздельный     после ремонта  \n",
       "4  Хозяин недвижимости  2 с/у и более     дргуой ремонт  "
      ]
     },
     "execution_count": 3,
     "metadata": {},
     "output_type": "execute_result"
    }
   ],
   "source": [
    "\n",
    "df = pd.read_csv('houses.csv')\n",
    "df.head()"
   ]
  },
  {
   "cell_type": "code",
   "execution_count": null,
   "metadata": {},
   "outputs": [],
   "source": []
  },
  {
   "cell_type": "code",
   "execution_count": 14,
   "metadata": {},
   "outputs": [
    {
     "name": "stdout",
     "output_type": "stream",
     "text": [
      "<class 'pandas.core.frame.DataFrame'>\n",
      "RangeIndex: 15743 entries, 0 to 15742\n",
      "Data columns (total 13 columns):\n",
      " #   Column              Non-Null Count  Dtype  \n",
      "---  ------              --------------  -----  \n",
      " 0   numrooms            15743 non-null  int64  \n",
      " 1   sqauremeters        15743 non-null  float64\n",
      " 2   levels_on_building  14699 non-null  float64\n",
      " 3   level               14839 non-null  float64\n",
      " 4   price               15743 non-null  int64  \n",
      " 5   distrcit            15300 non-null  object \n",
      " 6   microdistrict       6403 non-null   object \n",
      " 7   street              9326 non-null   object \n",
      " 8   builtyear           15743 non-null  int64  \n",
      " 9   ceilinghight        11385 non-null  float64\n",
      " 10  seller              15743 non-null  object \n",
      " 11  bathroomtype        12418 non-null  object \n",
      " 12  repaired            4239 non-null   object \n",
      "dtypes: float64(4), int64(3), object(6)\n",
      "memory usage: 1.6+ MB\n"
     ]
    },
    {
     "data": {
      "text/plain": [
       "(15743, 13)"
      ]
     },
     "execution_count": 14,
     "metadata": {},
     "output_type": "execute_result"
    }
   ],
   "source": [
    "df.info()\n",
    "df.shape"
   ]
  },
  {
   "cell_type": "code",
   "execution_count": 16,
   "metadata": {},
   "outputs": [],
   "source": [
    "df = df.drop(columns=['microdistrict', 'street'])"
   ]
  },
  {
   "cell_type": "code",
   "execution_count": 17,
   "metadata": {},
   "outputs": [
    {
     "data": {
      "text/html": [
       "<div>\n",
       "<style scoped>\n",
       "    .dataframe tbody tr th:only-of-type {\n",
       "        vertical-align: middle;\n",
       "    }\n",
       "\n",
       "    .dataframe tbody tr th {\n",
       "        vertical-align: top;\n",
       "    }\n",
       "\n",
       "    .dataframe thead th {\n",
       "        text-align: right;\n",
       "    }\n",
       "</style>\n",
       "<table border=\"1\" class=\"dataframe\">\n",
       "  <thead>\n",
       "    <tr style=\"text-align: right;\">\n",
       "      <th></th>\n",
       "      <th>numrooms</th>\n",
       "      <th>sqauremeters</th>\n",
       "      <th>levels_on_building</th>\n",
       "      <th>level</th>\n",
       "      <th>price</th>\n",
       "      <th>distrcit</th>\n",
       "      <th>builtyear</th>\n",
       "      <th>ceilinghight</th>\n",
       "      <th>seller</th>\n",
       "      <th>bathroomtype</th>\n",
       "      <th>repaired</th>\n",
       "    </tr>\n",
       "  </thead>\n",
       "  <tbody>\n",
       "    <tr>\n",
       "      <th>0</th>\n",
       "      <td>2</td>\n",
       "      <td>56.7</td>\n",
       "      <td>9.0</td>\n",
       "      <td>3.0</td>\n",
       "      <td>38000000</td>\n",
       "      <td>жетысуский</td>\n",
       "      <td>2006</td>\n",
       "      <td>2.70</td>\n",
       "      <td>Хозяин недвижимости</td>\n",
       "      <td>раздельный</td>\n",
       "      <td>NaN</td>\n",
       "    </tr>\n",
       "    <tr>\n",
       "      <th>1</th>\n",
       "      <td>3</td>\n",
       "      <td>100.0</td>\n",
       "      <td>16.0</td>\n",
       "      <td>13.0</td>\n",
       "      <td>59000000</td>\n",
       "      <td>бостандыкский</td>\n",
       "      <td>2019</td>\n",
       "      <td>2.85</td>\n",
       "      <td>Специалист</td>\n",
       "      <td>NaN</td>\n",
       "      <td>черновая отделка</td>\n",
       "    </tr>\n",
       "    <tr>\n",
       "      <th>2</th>\n",
       "      <td>1</td>\n",
       "      <td>45.8</td>\n",
       "      <td>10.0</td>\n",
       "      <td>3.0</td>\n",
       "      <td>59600000</td>\n",
       "      <td>бостандыкский</td>\n",
       "      <td>2022</td>\n",
       "      <td>3.00</td>\n",
       "      <td>Специалист</td>\n",
       "      <td>совмещенный</td>\n",
       "      <td>дргуой ремонт</td>\n",
       "    </tr>\n",
       "    <tr>\n",
       "      <th>3</th>\n",
       "      <td>2</td>\n",
       "      <td>67.0</td>\n",
       "      <td>5.0</td>\n",
       "      <td>4.0</td>\n",
       "      <td>28400000</td>\n",
       "      <td>алатауский</td>\n",
       "      <td>2012</td>\n",
       "      <td>2.80</td>\n",
       "      <td>Специалист</td>\n",
       "      <td>раздельный</td>\n",
       "      <td>после ремонта</td>\n",
       "    </tr>\n",
       "    <tr>\n",
       "      <th>4</th>\n",
       "      <td>3</td>\n",
       "      <td>93.0</td>\n",
       "      <td>9.0</td>\n",
       "      <td>2.0</td>\n",
       "      <td>55000000</td>\n",
       "      <td>алатауский</td>\n",
       "      <td>2018</td>\n",
       "      <td>3.00</td>\n",
       "      <td>Хозяин недвижимости</td>\n",
       "      <td>2 с/у и более</td>\n",
       "      <td>дргуой ремонт</td>\n",
       "    </tr>\n",
       "  </tbody>\n",
       "</table>\n",
       "</div>"
      ],
      "text/plain": [
       "   numrooms  sqauremeters  levels_on_building  level     price       distrcit  \\\n",
       "0         2          56.7                 9.0    3.0  38000000     жетысуский   \n",
       "1         3         100.0                16.0   13.0  59000000  бостандыкский   \n",
       "2         1          45.8                10.0    3.0  59600000  бостандыкский   \n",
       "3         2          67.0                 5.0    4.0  28400000     алатауский   \n",
       "4         3          93.0                 9.0    2.0  55000000     алатауский   \n",
       "\n",
       "   builtyear  ceilinghight               seller   bathroomtype  \\\n",
       "0       2006          2.70  Хозяин недвижимости     раздельный   \n",
       "1       2019          2.85           Специалист            NaN   \n",
       "2       2022          3.00           Специалист    совмещенный   \n",
       "3       2012          2.80           Специалист     раздельный   \n",
       "4       2018          3.00  Хозяин недвижимости  2 с/у и более   \n",
       "\n",
       "           repaired  \n",
       "0               NaN  \n",
       "1  черновая отделка  \n",
       "2     дргуой ремонт  \n",
       "3     после ремонта  \n",
       "4     дргуой ремонт  "
      ]
     },
     "execution_count": 17,
     "metadata": {},
     "output_type": "execute_result"
    }
   ],
   "source": [
    "df.head()"
   ]
  },
  {
   "cell_type": "code",
   "execution_count": 47,
   "metadata": {},
   "outputs": [],
   "source": [
    "cat_cols = [\n",
    "    'distrcit',\n",
    "    'seller',\n",
    "    'bathroomtype',\n",
    "    'repaired'\n",
    "]\n",
    "\n",
    "num_cols = [\n",
    "    'numrooms',\n",
    "    'sqauremeters',\n",
    "    'levels_on_building',\n",
    "    'level',\n",
    "    'price',\n",
    "    'builtyear',\n",
    "    'ceilinghight',\n",
    "]"
   ]
  },
  {
   "cell_type": "code",
   "execution_count": 49,
   "metadata": {},
   "outputs": [],
   "source": [
    "def barplot_col(col):\n",
    "    bathroom_counts = df[col].value_counts()\n",
    "\n",
    "    # Plot the bar plot\n",
    "    plt.bar(bathroom_counts.index, bathroom_counts.values)\n",
    "\n",
    "    # Customize the plot\n",
    "    plt.title(f'{col.capitalize()}s')\n",
    "    plt.xlabel(f'{col.capitalize()}')\n",
    "    plt.ylabel('Count')\n",
    "    plt.xticks(rotation=90)  # Rotate x-axis labels if necessary for better readability\n",
    "    # Display the plot\n",
    "    plt.show()\n"
   ]
  },
  {
   "cell_type": "code",
   "execution_count": 52,
   "metadata": {},
   "outputs": [
    {
     "data": {
      "image/png": "[encoded data removed]",
      "text/plain": [
       "<Figure size 640x480 with 1 Axes>"
      ]
     },
     "metadata": {},
     "output_type": "display_data"
    }
   ],
   "source": [
    "barplot_col('distrcit')"
   ]
  },
  {
   "cell_type": "code",
   "execution_count": 61,
   "metadata": {},
   "outputs": [
    {
     "data": {
      "text/plain": [
       "seller\n",
       "Специалист                                                               7607\n",
       "Хозяин недвижимости                                                      6014\n",
       "Крыша Агент                                                               848\n",
       "Компания                                                                  731\n",
       "Новостройка ЖК «Koktobe city» от застройщика «Kusto Home»                  21\n",
       "                                                                         ... \n",
       "Новостройка ЖК «Айнабулак 33/2» от застройщика «Центр СМР»                  2\n",
       "Новостройка ЖК «Sunny Village» от застройщика «Бабаева Р.М»                 2\n",
       "Новостройка ЖК «Gul-Ana» от застройщика «KazSMU»                            1\n",
       "Новостройка ЖК «Remizovka Life» от застройщика «ТОО TVK Almaty»             1\n",
       "Новостройка ЖК «Sunday Terrace на Айтматова» от застройщика «ТОО ЖВК»       1\n",
       "Name: count, Length: 67, dtype: int64"
      ]
     },
     "execution_count": 61,
     "metadata": {},
     "output_type": "execute_result"
    }
   ],
   "source": [
    "df['seller'].value_counts()"
   ]
  },
  {
   "cell_type": "code",
   "execution_count": null,
   "metadata": {},
   "outputs": [],
   "source": []
  },
  {
   "cell_type": "code",
   "execution_count": 46,
   "metadata": {},
   "outputs": [
    {
     "data": {
      "text/plain": [
       "distrcit\n",
       "бостандыкский    4713\n",
       "ауэзовский       2423\n",
       "алмалинский      2326\n",
       "медеуский        1664\n",
       "наурызбайский    1495\n",
       "алатауский       1173\n",
       "турксибский       749\n",
       "жетысуский        726\n",
       "асыл арман         14\n",
       "п.                  7\n",
       "туздыбастау         4\n",
       "мкр.                2\n",
       "просп.              1\n",
       "жумалиева           1\n",
       "алибекова           1\n",
       "улица               1\n",
       "Name: count, dtype: int64"
      ]
     },
     "execution_count": 46,
     "metadata": {},
     "output_type": "execute_result"
    }
   ],
   "source": [
    "df['distrcit'].value_counts()"
   ]
  },
  {
   "cell_type": "code",
   "execution_count": null,
   "metadata": {},
   "outputs": [],
   "source": []
  },
  {
   "cell_type": "code",
   "execution_count": null,
   "metadata": {},
   "outputs": [],
   "source": []
  }
 ],
 "metadata": {
  "kernelspec": {
   "display_name": "Python 3",
   "language": "python",
   "name": "python3"
  },
  "language_info": {
   "codemirror_mode": {
    "name": "ipython",
    "version": 3
   },
   "file_extension": ".py",
   "mimetype": "text/x-python",
   "name": "python",
   "nbconvert_exporter": "python",
   "pygments_lexer": "ipython3",
   "version": "3.12.2"
  }
 },
 "nbformat": 4,
 "nbformat_minor": 2
}
