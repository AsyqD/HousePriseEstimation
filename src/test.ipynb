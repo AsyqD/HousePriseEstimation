{
 "cells": [
  {
   "cell_type": "code",
   "execution_count": 1,
   "metadata": {},
   "outputs": [
    {
     "name": "stdout",
     "output_type": "stream",
     "text": [
      "Lwaspiv\n"
     ]
    }
   ],
   "source": [
    "def caesar_cipher(text, shift, mode='encrypt'):\n",
    "    if mode == 'decrypt':\n",
    "        shift = -shift\n",
    "    result = []\n",
    "    for char in text:\n",
    "        if char.isalpha():\n",
    "            start = ord('A') if char.isupper() else ord('a')\n",
    "            new_char = chr((ord(char) - start + shift) % 26 + start)\n",
    "            result.append(new_char)\n",
    "        else:\n",
    "            result.append(char)\n",
    "    return ''.join(result)\n",
    "\n",
    "name = 'Doskhan'\n",
    "shift = 8\n",
    "\n",
    "print(caesar_cipher(name, shift=shift))\n"
   ]
  },
  {
   "cell_type": "code",
   "execution_count": 5,
   "metadata": {},
   "outputs": [
    {
     "name": "stdout",
     "output_type": "stream",
     "text": [
      "Decrypted: b'\\xda*\\xd5~\\x9a\\xfdTO\\xda*\\xd5~\\x9a\\xfdTO\\xda*\\xd5~\\x9a\\xfdTO\\xda*\\xd5~\\x9a\\xfdTO\\xda*\\xd5~\\x9a\\xfdTO\\xda*\\xd5~\\x9a\\xfdTO\\xda*\\xd5~\\x9a\\xfdTO\\xda*\\xd5~\\x9a\\xfdTO'\n"
     ]
    }
   ],
   "source": [
    "class DES:\n",
    "    def __init__(self, key):\n",
    "        if len(key) != 8:\n",
    "            raise ValueError(\"Key must be exactly 8 bytes long.\")\n",
    "        self.key = key\n",
    "\n",
    "    def _permute(self, block, table):\n",
    "        if len(block) * 8 != len(table):\n",
    "            raise ValueError(\"Permutation table does not match block size.\")\n",
    "        return bytes([block[(i - 1) // 8] for i in table])\n",
    "\n",
    "    def _generate_subkeys(self):\n",
    "        return [self.key] * 16  # Simplified subkey generation for this example\n",
    "\n",
    "    def _feistel_function(self, half_block, subkey):\n",
    "        return bytes([b ^ s for b, s in zip(half_block, subkey[:4])])\n",
    "\n",
    "    def _process_block(self, block, subkeys, reverse=False):\n",
    "        initial_perm_table = [58, 50, 42, 34, 26, 18, 10, 2,\n",
    "                              60, 52, 44, 36, 28, 20, 12, 4,\n",
    "                              62, 54, 46, 38, 30, 22, 14, 6,\n",
    "                              64, 56, 48, 40, 32, 24, 16, 8,\n",
    "                              57, 49, 41, 33, 25, 17, 9, 1,\n",
    "                              59, 51, 43, 35, 27, 19, 11, 3,\n",
    "                              61, 53, 45, 37, 29, 21, 13, 5,\n",
    "                              63, 55, 47, 39, 31, 23, 15, 7]\n",
    "        final_perm_table = [40, 8, 48, 16, 56, 24, 64, 32,\n",
    "                            39, 7, 47, 15, 55, 23, 63, 31,\n",
    "                            38, 6, 46, 14, 54, 22, 62, 30,\n",
    "                            37, 5, 45, 13, 53, 21, 61, 29,\n",
    "                            36, 4, 44, 12, 52, 20, 60, 28,\n",
    "                            35, 3, 43, 11, 51, 19, 59, 27,\n",
    "                            34, 2, 42, 10, 50, 18, 58, 26,\n",
    "                            33, 1, 41, 9, 49, 17, 57, 25]\n",
    "\n",
    "        block = self._permute(block, initial_perm_table)\n",
    "        left, right = block[:4], block[4:]\n",
    "\n",
    "        if reverse:\n",
    "            subkeys = subkeys[::-1]\n",
    "\n",
    "        for subkey in subkeys:\n",
    "            temp = right\n",
    "            right = bytes([l ^ f for l, f in zip(left, self._feistel_function(right, subkey))])\n",
    "            left = temp\n",
    "\n",
    "        block = right + left\n",
    "        return self._permute(block, final_perm_table)\n",
    "\n",
    "    def encrypt(self, plaintext):\n",
    "        if len(plaintext) % 8 != 0:\n",
    "            raise ValueError(\"Plaintext must be a multiple of 8 bytes.\")\n",
    "\n",
    "        subkeys = self._generate_subkeys()\n",
    "        ciphertext = b''\n",
    "        for i in range(0, len(plaintext), 8):\n",
    "            block = plaintext[i:i + 8]\n",
    "            ciphertext += self._process_block(block, subkeys)\n",
    "        return ciphertext\n",
    "\n",
    "    def decrypt(self, ciphertext):\n",
    "        if len(ciphertext) % 8 != 0:\n",
    "            raise ValueError(\"Ciphertext must be a multiple of 8 bytes.\")\n",
    "\n",
    "        subkeys = self._generate_subkeys()\n",
    "        plaintext = b''\n",
    "        for i in range(0, len(ciphertext), 8):\n",
    "            block = ciphertext[i:i + 8]\n",
    "            plaintext += self._process_block(block, subkeys, reverse=True)\n",
    "        return plaintext\n",
    "\n",
    "\n",
    "# Provided key and plaintext\n",
    "key = b'\\x9a\\x9d\\xcal\"\\xedP '\n",
    "plaintext = b'T\\x9a\\xd5\\xdaw\\xad6j'\n",
    "\n",
    "# Create DES instance\n",
    "des = DES(key)\n",
    "\n",
    "decrypted_text = des.decrypt(plaintext)\n",
    "print(f\"Decrypted: {decrypted_text}\")\n",
    "\n"
   ]
  },
  {
   "cell_type": "code",
   "execution_count": null,
   "metadata": {},
   "outputs": [],
   "source": [
    "\n",
    "key = b'\\x9a\\x9d\\xcal\"\\xedP '\n",
    "plaintext = b'T\\x9a\\xd5\\xdaw\\xad6j'\n",
    "\n",
    "# Create DES instance\n",
    "des = DES(key)\n",
    "\n",
    "decrypted_text = des.decrypt(plaintext)\n",
    "print(f\"Decrypted: {decrypted_text}\")\n"
   ]
  },
  {
   "cell_type": "code",
   "execution_count": 6,
   "metadata": {},
   "outputs": [],
   "source": [
    "import random\n",
    "from math import gcd\n",
    "\n",
    "# Function to calculate modular inverse\n",
    "def mod_inverse(a, m):\n",
    "    # Extended Euclidean Algorithm to find modular inverse\n",
    "    m0, x0, x1 = m, 0, 1\n",
    "    while a > 1:\n",
    "        q = a // m\n",
    "        m, a = a % m, m\n",
    "        x0, x1 = x1 - q * x0, x0\n",
    "    if x1 < 0:\n",
    "        x1 += m0\n",
    "    return x1\n",
    "\n",
    "# Function to generate primes using Miller-Rabin primality test\n",
    "def is_prime(n, k=5):  # Number of tests = k\n",
    "    if n <= 1:\n",
    "        return False\n",
    "    if n <= 3:\n",
    "        return True\n",
    "    if n % 2 == 0 or n % 3 == 0:\n",
    "        return False\n",
    "    i = 5\n",
    "    while i * i <= n:\n",
    "        if n % i == 0 or n % (i + 2) == 0:\n",
    "            return False\n",
    "        i += 6\n",
    "    return True\n",
    "\n",
    "# Function to generate a large prime number\n",
    "def generate_prime(bits=1024):\n",
    "    while True:\n",
    "        prime_candidate = random.getrandbits(bits)\n",
    "        if is_prime(prime_candidate):\n",
    "            return prime_candidate\n",
    "\n",
    "# Function to generate RSA keys\n",
    "def generate_RSA_keys(bits=1024):\n",
    "    p = generate_prime(bits // 2)  # Generate first prime p\n",
    "    q = generate_prime(bits // 2)  # Generate second prime q\n",
    "    while p == q:  # Ensure p != q\n",
    "        q = generate_prime(bits // 2)\n",
    "    \n",
    "    n = p * q  # Modulus\n",
    "    phi_n = (p - 1) * (q - 1)  # Euler's totient function\n",
    "\n",
    "    # Find public key e such that gcd(e, phi_n) = 1\n",
    "    e = 65537  # Common choice for e\n",
    "    while gcd(e, phi_n) != 1:\n",
    "        e = random.randrange(2, phi_n)\n",
    "\n",
    "    # Find private key d such that (d * e) % phi_n = 1\n",
    "    d = mod_inverse(e, phi_n)\n",
    "\n",
    "    return (e, n), (d, n)\n",
    "\n",
    "# Function to encrypt a message\n",
    "def encrypt(public_key, message):\n",
    "    e, n = public_key\n",
    "    # Convert the message to integers (e.g., using ord())\n",
    "    message_integers = [ord(char) for char in message]\n",
    "    # Encrypt each integer\n",
    "    encrypted_message = [pow(m, e, n) for m in message_integers]\n",
    "    return encrypted_message\n",
    "\n",
    "# Function to decrypt a message\n",
    "def decrypt(private_key, encrypted_message):\n",
    "    d, n = private_key\n",
    "    # Decrypt each encrypted integer\n",
    "    decrypted_message = [chr(pow(m, d, n)) for m in encrypted_message]\n",
    "    return ''.join(decrypted_message)\n"
   ]
  },
  {
   "cell_type": "code",
   "execution_count": 10,
   "metadata": {},
   "outputs": [
    {
     "ename": "ModuleNotFoundError",
     "evalue": "No module named 'Crypto'",
     "output_type": "error",
     "traceback": [
      "\u001b[1;31m---------------------------------------------------------------------------\u001b[0m",
      "\u001b[1;31mModuleNotFoundError\u001b[0m                       Traceback (most recent call last)",
      "Cell \u001b[1;32mIn[10], line 1\u001b[0m\n\u001b[1;32m----> 1\u001b[0m \u001b[38;5;28;01mfrom\u001b[39;00m \u001b[38;5;21;01mCrypto\u001b[39;00m\u001b[38;5;21;01m.\u001b[39;00m\u001b[38;5;21;01mPublicKey\u001b[39;00m \u001b[38;5;28;01mimport\u001b[39;00m RSA\n\u001b[0;32m      2\u001b[0m \u001b[38;5;28;01mfrom\u001b[39;00m \u001b[38;5;21;01mCrypto\u001b[39;00m\u001b[38;5;21;01m.\u001b[39;00m\u001b[38;5;21;01mCipher\u001b[39;00m \u001b[38;5;28;01mimport\u001b[39;00m PKCS1_OAEP\n\u001b[0;32m      3\u001b[0m \u001b[38;5;28;01mfrom\u001b[39;00m \u001b[38;5;21;01mCrypto\u001b[39;00m\u001b[38;5;21;01m.\u001b[39;00m\u001b[38;5;21;01mRandom\u001b[39;00m \u001b[38;5;28;01mimport\u001b[39;00m get_random_bytes\n",
      "\u001b[1;31mModuleNotFoundError\u001b[0m: No module named 'Crypto'"
     ]
    }
   ],
   "source": [
    "from Crypto.PublicKey import RSA\n",
    "from Crypto.Cipher import PKCS1_OAEP\n",
    "from Crypto.Random import get_random_bytes\n",
    "from base64 import b64encode, b64decode\n",
    "\n",
    "# Generate RSA Keys\n",
    "def generate_RSA_keys(bits=2048):\n",
    "    key = RSA.generate(bits)\n",
    "    private_key = key.export_key()\n",
    "    public_key = key.publickey().export_key()\n",
    "    return public_key, private_key\n",
    "\n",
    "# Encrypt a message\n",
    "def encrypt(public_key, message):\n",
    "    public_key = RSA.import_key(public_key)\n",
    "    cipher = PKCS1_OAEP.new(public_key)\n",
    "    encrypted_message = cipher.encrypt(message.encode())\n",
    "    return b64encode(encrypted_message).decode()\n",
    "\n",
    "# Decrypt a message\n",
    "def decrypt(private_key, encrypted_message):\n",
    "    private_key = RSA.import_key(private_key)\n",
    "    cipher = PKCS1_OAEP.new(private_key)\n",
    "    encrypted_message = b64decode(encrypted_message)\n",
    "    decrypted_message = cipher.decrypt(encrypted_message).decode()\n",
    "    return decrypted_message\n",
    "\n",
    "# Example usage\n",
    "if __name__ == \"__main__\":\n",
    "    # Generate RSA keys\n",
    "    public_key, private_key = generate_RSA_keys()\n",
    "\n",
    "    # Original message\n",
    "    message = \"Hello, RSA with PyCryptodome!\"\n",
    "\n",
    "    # Encrypt the message\n",
    "    encrypted_message = encrypt(public_key, message)\n",
    "    print(\"Encrypted Message:\", encrypted_message)\n",
    "\n",
    "    # Decrypt the message\n",
    "    decrypted_message = decrypt(private_key, encrypted_message)\n",
    "    print(\"Decrypted Message:\", decrypted_message)\n"
   ]
  },
  {
   "cell_type": "code",
   "execution_count": 9,
   "metadata": {},
   "outputs": [
    {
     "name": "stdout",
     "output_type": "stream",
     "text": [
      "Requirement already satisfied: pycryptodome in c:\\users\\sydyk\\appdata\\local\\programs\\python\\python312\\lib\\site-packages (3.21.0)\n"
     ]
    },
    {
     "name": "stderr",
     "output_type": "stream",
     "text": [
      "\n",
      "[notice] A new release of pip is available: 24.1.2 -> 24.3.1\n",
      "[notice] To update, run: python.exe -m pip install --upgrade pip\n"
     ]
    }
   ],
   "source": [
    "!pip install pycryptodome\n"
   ]
  },
  {
   "cell_type": "code",
   "execution_count": 7,
   "metadata": {},
   "outputs": [
    {
     "ename": "KeyboardInterrupt",
     "evalue": "",
     "output_type": "error",
     "traceback": [
      "\u001b[1;31m---------------------------------------------------------------------------\u001b[0m",
      "\u001b[1;31mKeyboardInterrupt\u001b[0m                         Traceback (most recent call last)",
      "Cell \u001b[1;32mIn[7], line 1\u001b[0m\n\u001b[1;32m----> 1\u001b[0m public_key, private_key \u001b[38;5;241m=\u001b[39m \u001b[43mgenerate_RSA_keys\u001b[49m\u001b[43m(\u001b[49m\u001b[38;5;241;43m4096\u001b[39;49m\u001b[43m)\u001b[49m\n\u001b[0;32m      2\u001b[0m message \u001b[38;5;241m=\u001b[39m \u001b[38;5;124m'\u001b[39m\u001b[38;5;124mDoskhan\u001b[39m\u001b[38;5;124m'\u001b[39m\n\u001b[0;32m      3\u001b[0m encrypted_message \u001b[38;5;241m=\u001b[39m encrypt(public_key, message)\n",
      "Cell \u001b[1;32mIn[6], line 40\u001b[0m, in \u001b[0;36mgenerate_RSA_keys\u001b[1;34m(bits)\u001b[0m\n\u001b[0;32m     39\u001b[0m \u001b[38;5;28;01mdef\u001b[39;00m \u001b[38;5;21mgenerate_RSA_keys\u001b[39m(bits\u001b[38;5;241m=\u001b[39m\u001b[38;5;241m1024\u001b[39m):\n\u001b[1;32m---> 40\u001b[0m     p \u001b[38;5;241m=\u001b[39m \u001b[43mgenerate_prime\u001b[49m\u001b[43m(\u001b[49m\u001b[43mbits\u001b[49m\u001b[43m \u001b[49m\u001b[38;5;241;43m/\u001b[39;49m\u001b[38;5;241;43m/\u001b[39;49m\u001b[43m \u001b[49m\u001b[38;5;241;43m2\u001b[39;49m\u001b[43m)\u001b[49m  \u001b[38;5;66;03m# Generate first prime p\u001b[39;00m\n\u001b[0;32m     41\u001b[0m     q \u001b[38;5;241m=\u001b[39m generate_prime(bits \u001b[38;5;241m/\u001b[39m\u001b[38;5;241m/\u001b[39m \u001b[38;5;241m2\u001b[39m)  \u001b[38;5;66;03m# Generate second prime q\u001b[39;00m\n\u001b[0;32m     42\u001b[0m     \u001b[38;5;28;01mwhile\u001b[39;00m p \u001b[38;5;241m==\u001b[39m q:  \u001b[38;5;66;03m# Ensure p != q\u001b[39;00m\n",
      "Cell \u001b[1;32mIn[6], line 35\u001b[0m, in \u001b[0;36mgenerate_prime\u001b[1;34m(bits)\u001b[0m\n\u001b[0;32m     33\u001b[0m \u001b[38;5;28;01mwhile\u001b[39;00m \u001b[38;5;28;01mTrue\u001b[39;00m:\n\u001b[0;32m     34\u001b[0m     prime_candidate \u001b[38;5;241m=\u001b[39m random\u001b[38;5;241m.\u001b[39mgetrandbits(bits)\n\u001b[1;32m---> 35\u001b[0m     \u001b[38;5;28;01mif\u001b[39;00m \u001b[43mis_prime\u001b[49m\u001b[43m(\u001b[49m\u001b[43mprime_candidate\u001b[49m\u001b[43m)\u001b[49m:\n\u001b[0;32m     36\u001b[0m         \u001b[38;5;28;01mreturn\u001b[39;00m prime_candidate\n",
      "Cell \u001b[1;32mIn[6], line 25\u001b[0m, in \u001b[0;36mis_prime\u001b[1;34m(n, k)\u001b[0m\n\u001b[0;32m     23\u001b[0m     \u001b[38;5;28;01mreturn\u001b[39;00m \u001b[38;5;28;01mFalse\u001b[39;00m\n\u001b[0;32m     24\u001b[0m i \u001b[38;5;241m=\u001b[39m \u001b[38;5;241m5\u001b[39m\n\u001b[1;32m---> 25\u001b[0m \u001b[38;5;28;01mwhile\u001b[39;00m i \u001b[38;5;241m*\u001b[39m i \u001b[38;5;241m<\u001b[39m\u001b[38;5;241m=\u001b[39m n:\n\u001b[0;32m     26\u001b[0m     \u001b[38;5;28;01mif\u001b[39;00m n \u001b[38;5;241m%\u001b[39m i \u001b[38;5;241m==\u001b[39m \u001b[38;5;241m0\u001b[39m \u001b[38;5;129;01mor\u001b[39;00m n \u001b[38;5;241m%\u001b[39m (i \u001b[38;5;241m+\u001b[39m \u001b[38;5;241m2\u001b[39m) \u001b[38;5;241m==\u001b[39m \u001b[38;5;241m0\u001b[39m:\n\u001b[0;32m     27\u001b[0m         \u001b[38;5;28;01mreturn\u001b[39;00m \u001b[38;5;28;01mFalse\u001b[39;00m\n",
      "\u001b[1;31mKeyboardInterrupt\u001b[0m: "
     ]
    }
   ],
   "source": [
    "public_key, private_key = generate_RSA_keys(4096)\n",
    "message = 'Doskhan'\n",
    "encrypted_message = encrypt(public_key, message)\n",
    "print(\"Encrypted Message:\", encrypted_message)\n",
    "\n",
    "# Decrypt the message\n",
    "decrypted_message = decrypt(private_key, encrypted_message)\n",
    "print(\"Decrypted Message:\", decrypted_message)"
   ]
  },
  {
   "cell_type": "code",
   "execution_count": 1,
   "metadata": {},
   "outputs": [
    {
     "data": {
      "text/html": [
       "<div>\n",
       "<style scoped>\n",
       "    .dataframe tbody tr th:only-of-type {\n",
       "        vertical-align: middle;\n",
       "    }\n",
       "\n",
       "    .dataframe tbody tr th {\n",
       "        vertical-align: top;\n",
       "    }\n",
       "\n",
       "    .dataframe thead th {\n",
       "        text-align: right;\n",
       "    }\n",
       "</style>\n",
       "<table border=\"1\" class=\"dataframe\">\n",
       "  <thead>\n",
       "    <tr style=\"text-align: right;\">\n",
       "      <th></th>\n",
       "      <th>Link</th>\n",
       "    </tr>\n",
       "  </thead>\n",
       "  <tbody>\n",
       "    <tr>\n",
       "      <th>0</th>\n",
       "      <td>https://krisha.kz/prodazha/uchastkov/?page=1/a...</td>\n",
       "    </tr>\n",
       "    <tr>\n",
       "      <th>1</th>\n",
       "      <td>https://krisha.kz/prodazha/uchastkov/?page=1/a...</td>\n",
       "    </tr>\n",
       "    <tr>\n",
       "      <th>2</th>\n",
       "      <td>https://krisha.kz/prodazha/uchastkov/?page=1/a...</td>\n",
       "    </tr>\n",
       "    <tr>\n",
       "      <th>3</th>\n",
       "      <td>https://krisha.kz/prodazha/uchastkov/?page=1/a...</td>\n",
       "    </tr>\n",
       "    <tr>\n",
       "      <th>4</th>\n",
       "      <td>https://krisha.kz/prodazha/uchastkov/?page=1/a...</td>\n",
       "    </tr>\n",
       "  </tbody>\n",
       "</table>\n",
       "</div>"
      ],
      "text/plain": [
       "                                                Link\n",
       "0  https://krisha.kz/prodazha/uchastkov/?page=1/a...\n",
       "1  https://krisha.kz/prodazha/uchastkov/?page=1/a...\n",
       "2  https://krisha.kz/prodazha/uchastkov/?page=1/a...\n",
       "3  https://krisha.kz/prodazha/uchastkov/?page=1/a...\n",
       "4  https://krisha.kz/prodazha/uchastkov/?page=1/a..."
      ]
     },
     "execution_count": 1,
     "metadata": {},
     "output_type": "execute_result"
    }
   ],
   "source": [
    "import pandas as pd\n",
    "\n",
    "df = pd.read_csv('../parsing_results/output_links.csv')\n",
    "df.head()"
   ]
  },
  {
   "cell_type": "code",
   "execution_count": 4,
   "metadata": {},
   "outputs": [
    {
     "data": {
      "text/plain": [
       "'https://krisha.kz/a/show/1000787198?srchid=0196c647-e5bb-75dd-a15b-0191f6e31d91&srchtype=hot_block_filter&srchpos=3'"
      ]
     },
     "execution_count": 4,
     "metadata": {},
     "output_type": "execute_result"
    }
   ],
   "source": [
    "new_df = {\n",
    "    \"Link\": []\n",
    "}\n",
    "\n",
    "for link in list(df[\"Link\"]):\n",
    "    link = link.split('/')\n",
    "    new_df[\"Link\"].append('/'.join(link[:3] + link[6:]))\n",
    "    \n",
    "new_df = pd.DataFrame(new_df)\n",
    "new_df.iloc[0, 0]"
   ]
  },
  {
   "cell_type": "code",
   "execution_count": 5,
   "metadata": {},
   "outputs": [],
   "source": [
    "new_df.to_csv('../parsing_results/output_links.csv', index=False)"
   ]
  },
  {
   "cell_type": "code",
   "execution_count": null,
   "metadata": {},
   "outputs": [],
   "source": []
  }
 ],
 "metadata": {
  "kernelspec": {
   "display_name": "Python 3",
   "language": "python",
   "name": "python3"
  },
  "language_info": {
   "codemirror_mode": {
    "name": "ipython",
    "version": 3
   },
   "file_extension": ".py",
   "mimetype": "text/x-python",
   "name": "python",
   "nbconvert_exporter": "python",
   "pygments_lexer": "ipython3",
   "version": "3.12.2"
  }
 },
 "nbformat": 4,
 "nbformat_minor": 2
}
