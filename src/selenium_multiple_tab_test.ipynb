{
 "cells": [
  {
   "cell_type": "code",
   "execution_count": 1,
   "id": "575b56c1",
   "metadata": {},
   "outputs": [],
   "source": [
    "from selenium import webdriver\n",
    "import time\n",
    "\n"
   ]
  },
  {
   "cell_type": "code",
   "execution_count": 2,
   "id": "469f5598",
   "metadata": {},
   "outputs": [],
   "source": [
    "# Start the browser\n",
    "driver = webdriver.Chrome()\n",
    "\n",
    "# Open first tab\n",
    "driver.get('https://krisha.kz')\n",
    "time.sleep(2)\n",
    "\n",
    "# Open a new tab\n",
    "driver.execute_script(\"window.open('');\")\n",
    "\n",
    "# Switch to the new tab (index -1 means last opened)\n",
    "driver.switch_to.window(driver.window_handles[-1])\n",
    "\n",
    "# Load a URL in the new tab\n",
    "driver.get('https://krisha.kz/a/show/1001361234?srchid=0196c697-ba3c-71c5-a310-62b1025a4dca&srchtype=filter&srchpos=39937')\n",
    "\n",
    "# Optional: switch back\n",
    "driver.switch_to.window(driver.window_handles[0])  # Back to first tab\n",
    "\n",
    "time.sleep(5)  # Keep open for viewing\n",
    "driver.quit()"
   ]
  },
  {
   "cell_type": "code",
   "execution_count": null,
   "id": "2e87dd8c",
   "metadata": {},
   "outputs": [],
   "source": []
  },
  {
   "cell_type": "code",
   "execution_count": null,
   "id": "384d1e7b",
   "metadata": {},
   "outputs": [],
   "source": []
  },
  {
   "cell_type": "code",
   "execution_count": null,
   "id": "97afbf0c",
   "metadata": {},
   "outputs": [],
   "source": []
  },
  {
   "cell_type": "code",
   "execution_count": null,
   "id": "5ab6f647",
   "metadata": {},
   "outputs": [],
   "source": []
  },
  {
   "cell_type": "code",
   "execution_count": null,
   "id": "a0b44f26",
   "metadata": {},
   "outputs": [],
   "source": []
  }
 ],
 "metadata": {
  "kernelspec": {
   "display_name": "VenvForHPE",
   "language": "python",
   "name": "python3"
  },
  "language_info": {
   "codemirror_mode": {
    "name": "ipython",
    "version": 3
   },
   "file_extension": ".py",
   "mimetype": "text/x-python",
   "name": "python",
   "nbconvert_exporter": "python",
   "pygments_lexer": "ipython3",
   "version": "3.12.2"
  }
 },
 "nbformat": 4,
 "nbformat_minor": 5
}
