{
 "cells": [
  {
   "cell_type": "code",
   "execution_count": 2,
   "id": "5a8ed706",
   "metadata": {},
   "outputs": [],
   "source": [
    "import os\n",
    "import time\n",
    "import csv\n",
    "import requests\n",
    "import pandas as pd\n",
    "from bs4 import BeautifulSoup\n",
    "from tqdm import tqdm\n",
    "import os"
   ]
  },
  {
   "cell_type": "code",
   "execution_count": null,
   "id": "817518dd",
   "metadata": {},
   "outputs": [],
   "source": [
    "NUMBER_OF_PAGES = 2030"
   ]
  },
  {
   "cell_type": "code",
   "execution_count": 4,
   "id": "4af44528",
   "metadata": {},
   "outputs": [],
   "source": [
    "saving_path = \"../parsing_results/output_links_270525.csv\""
   ]
  },
  {
   "cell_type": "code",
   "execution_count": 5,
   "id": "cc0e2278",
   "metadata": {},
   "outputs": [],
   "source": [
    "\n",
    "def get_link_from_page(url: str, csv_file=saving_path):\n",
    "\n",
    "    # Send HTTP GET request\n",
    "    response = requests.get(url)\n",
    "    if response.status_code != 200:\n",
    "        raise Exception(f\"Failed to load page: {url}\")\n",
    "\n",
    "    # Parse HTML content\n",
    "    soup = BeautifulSoup(response.text, 'html.parser')\n",
    "\n",
    "    # Find the section and extract all <a> tags inside it\n",
    "    section = soup.find('section', class_='a-list a-search-list a-list-with-favs')\n",
    "    links = []\n",
    "\n",
    "    if section:\n",
    "        for card in section.find_all('div', class_='a-card a-storage-live ddl_product ddl_product_link not-colored is-visible'):\n",
    "            link_tag = card.find('a', class_='a-card__image')\n",
    "            if link_tag and link_tag.get('href'):\n",
    "                full_url = link_tag['href']\n",
    "                if full_url.startswith('/'):\n",
    "                    full_url = f\"https://krisha.kz/{full_url.lstrip('/')}\"\n",
    "                links.append(full_url)\n",
    "\n",
    "    # Save to CSV\n",
    "\n",
    "    with open(csv_file, mode='a', newline='', encoding='utf-8') as file:\n",
    "        writer = csv.writer(file)\n",
    "        \n",
    "        if file.tell() == 0:\n",
    "            writer.writerow([\"Link\"])\n",
    "        \n",
    "        for link in links:\n",
    "            writer.writerow([link])"
   ]
  },
  {
   "cell_type": "code",
   "execution_count": 6,
   "id": "4bf8fd43",
   "metadata": {},
   "outputs": [],
   "source": [
    "get_link_from_page(\"https://krisha.kz/prodazha/uchastkov/\", \"test.csv\")"
   ]
  },
  {
   "cell_type": "code",
   "execution_count": 10,
   "id": "2e98e414",
   "metadata": {},
   "outputs": [
    {
     "name": "stderr",
     "output_type": "stream",
     "text": [
      " 12%|█▏        | 242/2029 [05:46<45:19,  1.52s/it]"
     ]
    },
    {
     "name": "stdout",
     "output_type": "stream",
     "text": [
      "Error on https://krisha.kz/prodazha/uchastkov/?page=243: Response ended prematurely\n"
     ]
    },
    {
     "name": "stderr",
     "output_type": "stream",
     "text": [
      "100%|██████████| 2029/2029 [55:49<00:00,  1.65s/it] \n"
     ]
    }
   ],
   "source": [
    "\n",
    "\n",
    "page_numbers = range(1, NUMBER_OF_PAGES)  # Pages 1 to last\n",
    "\n",
    "for page in tqdm(page_numbers):\n",
    "    # if page % 50 == 0:\n",
    "    #     print(f'page {page} as successfully parsed')\n",
    "    url = f\"https://krisha.kz/prodazha/uchastkov/?page={page}\"\n",
    "    try:\n",
    "        get_link_from_page(url, saving_path)\n",
    "        time.sleep(1)  # Pause for 1 seconds between requests\n",
    "    except Exception as e:\n",
    "        print(f\"Error on {url}: {e}\")\n",
    "        time.sleep(5)  # Longer pause if error occurs"
   ]
  },
  {
   "cell_type": "code",
   "execution_count": null,
   "id": "5a822731",
   "metadata": {},
   "outputs": [],
   "source": []
  },
  {
   "cell_type": "code",
   "execution_count": null,
   "id": "c87b5f64",
   "metadata": {},
   "outputs": [],
   "source": []
  },
  {
   "cell_type": "code",
   "execution_count": null,
   "id": "f5557c51",
   "metadata": {},
   "outputs": [],
   "source": []
  },
  {
   "cell_type": "code",
   "execution_count": null,
   "id": "96206e05",
   "metadata": {},
   "outputs": [],
   "source": []
  }
 ],
 "metadata": {
  "kernelspec": {
   "display_name": "VenvForHPE",
   "language": "python",
   "name": "python3"
  },
  "language_info": {
   "codemirror_mode": {
    "name": "ipython",
    "version": 3
   },
   "file_extension": ".py",
   "mimetype": "text/x-python",
   "name": "python",
   "nbconvert_exporter": "python",
   "pygments_lexer": "ipython3",
   "version": "3.12.2"
  }
 },
 "nbformat": 4,
 "nbformat_minor": 5
}
