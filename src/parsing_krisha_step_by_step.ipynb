{
 "cells": [
  {
   "cell_type": "code",
   "execution_count": 1,
   "id": "5eaa5c75",
   "metadata": {},
   "outputs": [],
   "source": [
    "import os\n",
    "import time\n",
    "import csv\n",
    "import requests\n",
    "import pandas as pd\n",
    "from bs4 import BeautifulSoup\n",
    "from tqdm import tqdm\n",
    "import os"
   ]
  },
  {
   "cell_type": "code",
   "execution_count": 2,
   "id": "2f114030",
   "metadata": {},
   "outputs": [],
   "source": [
    "BATCH_SIZE = 100 # Edit this"
   ]
  },
  {
   "cell_type": "code",
   "execution_count": 11,
   "id": "5ac248cd",
   "metadata": {},
   "outputs": [
    {
     "data": {
      "text/plain": [
       "1720"
      ]
     },
     "execution_count": 11,
     "metadata": {},
     "output_type": "execute_result"
    }
   ],
   "source": [
    "test_link = 'https://krisha.kz/a/show/1000906432'\n",
    "response = requests.get(test_link)\n",
    "soup = BeautifulSoup(response.text, 'html.parser')\n",
    "\n",
    "t_ = soup.find('script', id='jsdata')\n",
    "a = t_.get_text(strip=True)\n",
    "a.find('lat')"
   ]
  },
  {
   "cell_type": "code",
   "execution_count": 12,
   "id": "4e5e3a11",
   "metadata": {},
   "outputs": [
    {
     "name": "stdout",
     "output_type": "stream",
     "text": [
      "window.data = {\"advert\":{\"id\":1000906432,\"storage\":\"live\",\"commentsType\":\"adv\",\"isCommentable\":false,\"isCommentableByEveryone\":false,\"isOnMap\":true,\"hasPrice\":true,\"price\":175000000,\"photos\":[{\"src\":\"https://krisha-photos.kcdn.online/webp/b2/b27a4430-5c83-431a-a6ee-af3896785e65/1-full.jpg\",\"w\":576,\"h\":1024,\"title\":\"Продажа участков в Алматы: Участок · 8 соток, Жарокова — Альфараби Жарокова за 175 млн 〒 — фото 2\",\"alt\":\"Участок · 8 соток, Жарокова — Альфараби Жарокова за 175 млн 〒 в Алматы, Бостандыкский р-н — фото 2\"},{\"src\":\"https://krisha-photos.kcdn.online/webp/b2/b27a4430-5c83-431a-a6ee-af3896785e65/2-full.jpg\",\"w\":576,\"h\":1024,\"title\":\"Продажа участков в Алматы: Участок · 8 соток, Жарокова — Альфараби Жарокова за 175 млн 〒 — фото 3\",\"alt\":\"Участок · 8 соток, Жарокова — Альфараби Жарокова за 175 млн 〒 в Алматы, Бостандыкский р-н — фото 3\"},{\"src\":\"https://krisha-photos.kcdn.online/webp/b2/b27a4430-5c83-431a-a6ee-af3896785e65/3-full.jpg\",\"w\":576,\"h\":1024,\"title\":\"Продажа участков в Алматы: Участок · 8 соток, Жарокова — Альфараби Жарокова за 175 млн 〒 — фото 4\",\"alt\":\"Участок · 8 соток, Жарокова — Альфараби Жарокова за 175 млн 〒 в Алматы, Бостандыкский р-н — фото 4\"},{\"src\":\"https://krisha-photos.kcdn.online/webp/b2/b27a4430-5c83-431a-a6ee-af3896785e65/4-full.jpg\",\"w\":576,\"h\":1024,\"title\":\"Продажа участков в Алматы: Участок · 8 соток, Жарокова — Альфараби Жарокова за 175 млн 〒 — фото 5\",\"alt\":\"Участок · 8 соток, Жарокова — Альфараби Жарокова за 175 млн 〒 в Алматы, Бостандыкский р-н — фото 5\"}],\"hasPackages\":false,\"title\":\"Участок · 8 соток\",\"addressTitle\":\"Жарокова — Альфараби Жарокова\",\"userType\":\"specialist\",\"square\":null,\"rooms\":null,\"ownerName\":\"Абилбай Дармен\",\"status\":\"live\",\"map\":{\"lat\":43.206244,\"lon\":76.903154,\"zoom\":14,\"type\":\"yandex#map\"},\"sectionAlias\":\"prodazha\",\"categoryId\":14,\"categoryAlias\":\"uchastkov\",\"address\":{\"district\":\"Bostandykskiy_r-n\",\"country\":\"Kazahstan\",\"city\":\"Almaty\",\"street\":\"Zharokova\",\"corner_street\":\"Alyfarabi_Zharokova\"},\"isEstateVerified\":false,\"isOwnedByCurrentUser\":false,\"hasRelatedCompilation\":false},\"adverts\":[{\"id\":1000906432,\"tempId\":1000906432,\"storage\":\"live\",\"uuid\":\"b27a4430-5c83-431a-a6ee-af3896785e65\",\"url\":\"//krisha.kz/a/show/1000906432\",\"title\":\"Участок · 8 соток\",\"titleWithPrice\":\"Участок · 8 соток за 175&nbsp;млн&nbsp;<span class=\\\"currency-sign offer__currency\\\">〒</span>\",\"city\":\"Алматы\",\"address\":\"Жарокова — Альфараби Жарокова\",\"fullAddress\":\"Алматы, Бостандыкский р-н, Жарокова — Альфараби Жарокова\",\"price\":\"175&nbsp;000&nbsp;000&nbsp;<span class=\\\"currency-sign offer__currency\\\">〒</span>\",\"priceM2\":null,\"priceM2Text\":null,\"daysInLive\":1,\"description\":\"МЖС (многоэтажное жилищное строительство), ровный, удобный въезд, выкуплен, госакт, все документы, 8 соток прям сзади заправки гелиос Полный пакет документов все готова Целевое направление:для строительства и эксплуатации административно-офисного здания ПДП: Ж5 АПЗ: есть 175 млн. только наличка Тор…\",\"color\":null,\"isFlatLayout\":false,\"isHouseLayout\":false,\"isLayout\":false,\"category\":{\"id\":14,\"name\":\"sell.land\",\"label\":\"Продажа участков\",\"isDisabled\":false},\"owner\":{\"isPro\":true,\"isComplex\":false,\"isBuilder\":false,\"isOwner\":false,\"title\":\"Абилбай Дармен, компания «MONOLIT»\",\"label\":{\"title\":\"Специалист\",\"name\":\"identified-specialist\",\"color\":\"transparent\"},\"isChecked\":false,\"isCurrentUser\":false},\"nbPhotos\":4,\"photo\":{\"title\":\"Продажа участков в Алматы: Участок · 8 соток, Жарокова — Альфараби Жарокова за 175 млн 〒\",\"alt\":\"Участок · 8 соток, Жарокова — Альфараби Жарокова за 175 млн 〒 в Алматы, Бостандыкский р-н\",\"1x\":\"https://krisha-photos.kcdn.online/webp/b2/b27a4430-5c83-431a-a6ee-af3896785e65/1-280x175.jpg\",\"1.5x\":\"https://krisha-photos.kcdn.online/webp/b2/b27a4430-5c83-431a-a6ee-af3896785e65/1-448x280.jpg\",\"2x\":\"https://krisha-photos.kcdn.online/webp/b2/b27a4430-5c83-431a-a6ee-af3896785e65/1-560x350.jpg\",\"3x\":\"https://krisha-photos.kcdn.online/webp/b2/b27a4430-5c83-431a-a6ee-af3896785e65/1-750x470.jpg\",\"mainId\":1,\"isModerated\":true,\"count\":4},\"expiresAtText\":\"Будет перенесено в архив через <b>7&nbsp;дней</b>\",\"deletedAtText\":\"Будет удалено 28 мая 2027 г.\",\"expiresWarning\":\"Это объявление будет перенесено в архив через <b>7 дней</b>. Чтобы этого не случилось, продлите его.\",\"isExpiresSoon\":false,\"isEstateVerified\":false,\"hiddenReason\":{\"reason\":\"\",\"comment\":\"\"},\"isEdited\":false,\"isEditable\":false,\"isRemovable\":false,\"isOwner\":false,\"addedAt\":\"2025-05-28\",\"createdAt\":\"2025-04-21\",\"hasAutoRe\":false,\"hasAutoUp\":false,\"hasPackages\":false,\"services\":[{\"name\":\"hot\"}],\"contactsInfo\":{\"phonePreview\":\"+7 747 \",\"phonesNb\":1},\"isAgent\":false,\"statusBadge\":{\"textColor\":\"#ffffff\",\"backgroundColor\":\"#64BD38\",\"text\":\"Рекламируется до завтра\"},\"hasActiveBookingRequests\":false,\"hasPhoto\":true,\"paidServices\":{\"color-yellow\":{\"name\":\"color-yellow\",\"apiName\":\"color-yellow\",\"successMessage\":\"Покрашено в желтый цвет.\",\"cancelMessage\":\"С объявления убран цвет\",\"cancelTitle\":\"Убрать покраску\",\"price\":45,\"title\":\"paidServices.colors.title\",\"description\":\"paidServices.color-yellow.description\",\"isCancelable\":true,\"icon\":\"colors\",\"quantity\":1,\"isApplied\":false,\"isAvailable\":false,\"isVisibleInCabinet\":false,\"advertId\":1000906432,\"advertStorage\":\"live\",\"freeLockTime\":\"меньше часа\",\"freeLockTimeSec\":0,\"buttonText\":\"paidServices.colors.tooltip.apply\",\"additionalButtonText\":\"\",\"unavailableMessage\":\"Услуга недоступна для этого объявления.\"},\"auto-re\":{\"name\":\"auto-re\",\"apiName\":\"auto-re\",\"successMessage\":\"Будет автоматически продлеваться каждые 7 дней\",\"cancelMessage\":\"Не будет автоматически продлеваться\",\"cancelTitle\":null,\"price\":0,\"title\":\"Автопродление\",\"description\":\"Автоматически продлевать это объявление каждую неделю.\",\"isCancelable\":true,\"icon\":\"re\",\"quantity\":1,\"isApplied\":false,\"isAvailable\":true,\"isVisibleInCabinet\":true,\"advertId\":1000906432,\"advertStorage\":\"live\",\"freeLockTime\":\"меньше часа\",\"freeLockTimeSec\":0,\"buttonText\":\"Автопродление за 170 〒/нед.\",\"additionalButtonText\":\"Автоматически продлевать это объявление каждую неделю.\",\"unavailableMessage\":\"Услуга недоступна для этого объявления.\"},\"auto-up\":{\"name\":\"auto-up\",\"apiName\":\"auto-up\",\"successMessage\":\"Будет автоматически подниматься в ТОП раз в сутки\",\"cancelMessage\":\"Не будет автоматически подниматься в ТОП\",\"cancelTitle\":null,\"price\":0,\"title\":\"Автоподнятие\",\"description\":\"Объявление будет поднято выше бесплатных на 24 часа, каждый день.\",\"isCancelable\":true,\"icon\":\"up\",\"quantity\":1,\"isApplied\":false,\"isAvailable\":true,\"isVisibleInCabinet\":true,\"advertId\":1000906432,\"advertStorage\":\"live\",\"freeLockTime\":\"меньше часа\",\"freeLockTimeSec\":0,\"buttonText\":\"Поднимать в ТОП за 500 〒 в день\",\"additionalButtonText\":\"Объявление будет поднято выше бесплатных на 24 часа, каждый день.\",\"unavailableMessage\":\"Услуга недоступна для этого объявления.\"},\"archive-re\":{\"name\":\"archive-re\",\"apiName\":\"re\",\"successMessage\":\"Объявление восстановлено\",\"cancelMessage\":null,\"cancelTitle\":null,\"price\":170,\"title\":\"Восстановить\",\"description\":\"Ваше объявление проживет на сайте 7 дней с момента восстановления.\",\"isCancelable\":false,\"icon\":\"re\",\"quantity\":1,\"isApplied\":true,\"isAvailable\":false,\"isVisibleInCabinet\":false,\"advertId\":1000906432,\"advertStorage\":\"live\",\"freeLockTime\":\"меньше часа\",\"freeLockTimeSec\":0,\"buttonText\":\"Восстановить за 170 〒\",\"additionalButtonText\":\"\",\"unavailableMessage\":\"\"},\"hot\":{\"name\":\"hot\",\"apiName\":\"hot\",\"successMessage\":\"Помещено в Горячие\",\"cancelMessage\":null,\"cancelTitle\":null,\"price\":420,\"title\":\"В горячие предложения\",\"description\":\"Объявление попадёт в горячие предложения. Каждый посетитель сайта или приложения видит объявление в 4 раза чаще.\",\"isCancelable\":false,\"icon\":\"hot\",\"quantity\":1,\"isApplied\":true,\"isAvailable\":true,\"isVisibleInCabinet\":true,\"advertId\":1000906432,\"advertStorage\":\"live\",\"freeLockTime\":\"меньше часа\",\"freeLockTimeSec\":0,\"buttonText\":\"Отправить в Горячие за 420 〒\",\"additionalButtonText\":\"24 часа в горячих предложениях\",\"unavailableMessage\":\"<a href=\\\"/my/?returnUrl=https%3A%2F%2Fkrisha.kz%2Fmy%2Fphotos%3Fid%3D1000906432\\\" class=\\\"menu-item-photo\\\">Добавьте фото</a> в объявление, чтобы разместить в горячих.\"},\"plus-b2b-one\":{\"name\":\"plus-b2b-one\",\"apiName\":\"plus-b2b-one\",\"successMessage\":\"Подписка успешно подключена\",\"cancelMessage\":null,\"cancelTitle\":null,\"price\":3572,\"title\":\"Подписка на месяц\",\"description\":\"Подписка Krisha PLUS\",\"isCancelable\":false,\"icon\":\"\",\"quantity\":1,\"isApplied\":false,\"isAvailable\":false,\"isVisibleInCabinet\":false,\"advertId\":1000906432,\"advertStorage\":\"live\",\"freeLockTime\":\"меньше часа\",\"freeLockTimeSec\":0,\"buttonText\":\"Подписка на месяц\",\"additionalButtonText\":\"\",\"unavailableMessage\":\"Услуга недоступна для этого объявления.\"},\"plus-b2c-one\":{\"name\":\"plus-b2c-one\",\"apiName\":\"plus-b2c-one\",\"successMessage\":\"paidServices.plus-b2c-one.successMessage\",\"cancelMessage\":null,\"cancelTitle\":null,\"price\":2852,\"title\":\"Подписка на месяц\",\"description\":\"paidServices.plus-b2c-one.description\",\"isCancelable\":false,\"icon\":\"\",\"quantity\":1,\"isApplied\":false,\"isAvailable\":false,\"isVisibleInCabinet\":false,\"advertId\":1000906432,\"advertStorage\":\"live\",\"freeLockTime\":\"меньше часа\",\"freeLockTimeSec\":0,\"buttonText\":\"Подписка на месяц\",\"additionalButtonText\":\"\",\"unavailableMessage\":\"Услуга недоступна для этого объявления.\"},\"limit-pay\":{\"name\":\"limit-pay\",\"apiName\":\"limit-pay\",\"successMessage\":\"Объявление успешно оплачено и отправлено модератору.\",\"cancelMessage\":null,\"cancelTitle\":null,\"price\":45,\"title\":\"Опубликовать\",\"description\":\"Объявление будет опубликовано на сайте после оплаты и проверки модератором.\",\"isCancelable\":false,\"icon\":null,\"quantity\":1,\"isApplied\":true,\"isAvailable\":false,\"isVisibleInCabinet\":false,\"advertId\":1000906432,\"advertStorage\":\"live\",\"freeLockTime\":\"меньше часа\",\"freeLockTimeSec\":0,\"buttonText\":\"Опубликовать за 45 〒\",\"additionalButtonText\":\"\",\"unavailableMessage\":\"Услуга недоступна для этого объявления.\"},\"re\":{\"name\":\"re\",\"apiName\":\"re\",\"successMessage\":\"Продлено на 7 дней\",\"cancelMessage\":null,\"cancelTitle\":null,\"price\":170,\"title\":\"Продлить\",\"description\":\"Объявление будет на сайте 7 дней с момента продления.\",\"isCancelable\":false,\"icon\":\"re\",\"quantity\":1,\"isApplied\":true,\"isAvailable\":true,\"isVisibleInCabinet\":true,\"advertId\":1000906432,\"advertStorage\":\"live\",\"freeLockTime\":\"меньше часа\",\"freeLockTimeSec\":0,\"buttonText\":\"Продлить на неделю за 170 〒\",\"additionalButtonText\":\"\",\"unavailableMessage\":\"Вы недавно продлевали это объявление. Бесплатное продление доступно раз в сутки.\"},\"up\":{\"name\":\"up\",\"apiName\":\"up\",\"successMessage\":\"Отправлено в ТОП\",\"cancelMessage\":null,\"cancelTitle\":null,\"price\":500,\"title\":\"Отправить в ТОП\",\"description\":\"Объявление поднято в поиске выше бесплатных на 24 часа.\",\"isCancelable\":false,\"icon\":\"up\",\"quantity\":1,\"isApplied\":false,\"isAvailable\":true,\"isVisibleInCabinet\":true,\"advertId\":1000906432,\"advertStorage\":\"live\",\"freeLockTime\":\"меньше часа\",\"freeLockTimeSec\":0,\"buttonText\":\"Отправить в ТОП за 500 〒\",\"additionalButtonText\":\"24 часа выше бесплатных объявлений\",\"unavailableMessage\":\"Услуга недоступна для этого объявления.\"},\"up-gold\":{\"name\":\"up-gold\",\"apiName\":\"up-gold\",\"successMessage\":\"Отправлено в ТОП\",\"cancelMessage\":null,\"cancelTitle\":null,\"price\":390,\"title\":\"Отправить в ТОП\",\"description\":\"Объявление поднято в поиске выше бесплатных на 24 часа.\",\"isCancelable\":false,\"icon\":\"up\",\"quantity\":1,\"isApplied\":false,\"isAvailable\":true,\"isVisibleInCabinet\":true,\"advertId\":1000906432,\"advertStorage\":\"live\",\"freeLockTime\":\"меньше часа\",\"freeLockTimeSec\":0,\"buttonText\":\"Отправить в ТОП за 390 〒\",\"additionalButtonText\":\"24 часа выше бесплатных объявлений\",\"unavailableMessage\":\"Услуга недоступна для этого объявления.\"},\"up-premium\":{\"name\":\"up-premium\",\"apiName\":\"up-premium\",\"successMessage\":\"Отправлено в ТОП\",\"cancelMessage\":null,\"cancelTitle\":null,\"price\":450,\"title\":\"Отправить в ТОП\",\"description\":\"Объявление поднято в поиске выше бесплатных на 24 часа.\",\"isCancelable\":false,\"icon\":\"up\",\"quantity\":1,\"isApplied\":false,\"isAvailable\":true,\"isVisibleInCabinet\":true,\"advertId\":1000906432,\"advertStorage\":\"live\",\"freeLockTime\":\"меньше часа\",\"freeLockTimeSec\":0,\"buttonText\":\"Отправить в ТОП за 450 〒\",\"additionalButtonText\":\"24 часа выше бесплатных объявлений\",\"unavailableMessage\":\"Услуга недоступна для этого объявления.\"},\"s\":{\"name\":\"s\",\"apiName\":\"s\",\"successMessage\":\"Помечено флажком «Срочно, торг»\",\"cancelMessage\":\"Снят флажок «Срочно, торг»\",\"cancelTitle\":\"Убрать «Срочно, торг»\",\"price\":90,\"title\":\"Срочно, торг\",\"description\":\"Такая метка вызывает на 60% больше интереса у покупателей.\",\"isCancelable\":true,\"icon\":\"urgent\",\"quantity\":1,\"isApplied\":false,\"isAvailable\":true,\"isVisibleInCabinet\":true,\"advertId\":1000906432,\"advertStorage\":\"live\",\"freeLockTime\":\"меньше часа\",\"freeLockTimeSec\":0,\"buttonText\":\"Поставить «Срочно, торг» за 90 〒\",\"additionalButtonText\":\"\",\"unavailableMessage\":\"Услуга недоступна для этого объявления.\"},\"paid-auto-re\":{\"name\":\"paid-auto-re\",\"apiName\":\"paid-auto-re\",\"successMessage\":\"paidServices.paid-auto-re.successMessage\",\"cancelMessage\":null,\"cancelTitle\":null,\"price\":170,\"title\":\"Продлить\",\"description\":\"Автоматически продлевать это объявление.\",\"isCancelable\":false,\"icon\":\"re\",\"quantity\":1,\"isApplied\":true,\"isAvailable\":true,\"isVisibleInCabinet\":true,\"advertId\":1000906432,\"advertStorage\":\"live\",\"freeLockTime\":\"меньше часа\",\"freeLockTimeSec\":0,\"buttonText\":\"Продлить на неделю за 170 〒\",\"additionalButtonText\":\"\",\"unavailableMessage\":\"Вы недавно продлевали это объявление. Бесплатное продление доступно раз в сутки.\"},\"pack-5-limit\":{\"name\":\"pack-5-limit\",\"apiName\":\"pack-5-limit\",\"successMessage\":\"Куплен пакет «5 размещений» на неделю в «Продажа» Алматы\",\"cancelMessage\":null,\"cancelTitle\":null,\"price\":200,\"title\":\"5 объявлений сверх лимита\",\"description\":\"paidServices.pack-5-limit.description\",\"isCancelable\":false,\"icon\":null,\"quantity\":1,\"isApplied\":true,\"isAvailable\":false,\"isVisibleInCabinet\":false,\"advertId\":1000906432,\"advertStorage\":\"live\",\"freeLockTime\":\"меньше часа\",\"freeLockTimeSec\":0,\"buttonText\":\"5 объявлений по 40 〒\",\"additionalButtonText\":\"\",\"unavailableMessage\":\"Услуга недоступна для этого объявления.\"},\"pack-15-limit\":{\"name\":\"pack-15-limit\",\"apiName\":\"pack-15-limit\",\"successMessage\":\"Куплен пакет «15 размещений» на неделю в «Продажа» Алматы\",\"cancelMessage\":null,\"cancelTitle\":null,\"price\":570,\"title\":\"15 объявлений сверх лимита\",\"description\":\"paidServices.pack-15-limit.description\",\"isCancelable\":false,\"icon\":null,\"quantity\":1,\"isApplied\":true,\"isAvailable\":false,\"isVisibleInCabinet\":false,\"advertId\":1000906432,\"advertStorage\":\"live\",\"freeLockTime\":\"меньше часа\",\"freeLockTimeSec\":0,\"buttonText\":\"15 объявлений по 38 〒\",\"additionalButtonText\":\"\",\"unavailableMessage\":\"Услуга недоступна для этого объявления.\"},\"pack-25-limit\":{\"name\":\"pack-25-limit\",\"apiName\":\"pack-25-limit\",\"successMessage\":\"Куплен пакет «25 размещений» на неделю в «Продажа» Алматы\",\"cancelMessage\":null,\"cancelTitle\":null,\"price\":825,\"title\":\"25 объявлений сверх лимита\",\"description\":\"paidServices.pack-25-limit.description\",\"isCancelable\":false,\"icon\":null,\"quantity\":1,\"isApplied\":true,\"isAvailable\":false,\"isVisibleInCabinet\":false,\"advertId\":1000906432,\"advertStorage\":\"live\",\"freeLockTime\":\"меньше часа\",\"freeLockTimeSec\":0,\"buttonText\":\"25 объявлений по 33 〒\",\"additionalButtonText\":\"\",\"unavailableMessage\":\"Услуга недоступна для этого объявления.\"},\"pack-35-limit\":{\"name\":\"pack-35-limit\",\"apiName\":\"pack-35-limit\",\"successMessage\":\"Куплен пакет «35 размещений» на неделю в «Продажа» Алматы\",\"cancelMessage\":null,\"cancelTitle\":null,\"price\":1015,\"title\":\"35 объявлений сверх лимита\",\"description\":\"paidServices.pack-35-limit.description\",\"isCancelable\":false,\"icon\":null,\"quantity\":1,\"isApplied\":true,\"isAvailable\":false,\"isVisibleInCabinet\":false,\"advertId\":1000906432,\"advertStorage\":\"live\",\"freeLockTime\":\"меньше часа\",\"freeLockTimeSec\":0,\"buttonText\":\"35 объявлений по 29 〒\",\"additionalButtonText\":\"\",\"unavailableMessage\":\"Услуга недоступна для этого объявления.\"},\"pack-55-limit\":{\"name\":\"pack-55-limit\",\"apiName\":\"pack-55-limit\",\"successMessage\":\"Куплен пакет «55 размещений» на неделю в «Продажа» Алматы\",\"cancelMessage\":null,\"cancelTitle\":null,\"price\":1320,\"title\":\"55 объявлений сверх лимита\",\"description\":\"paidServices.pack-55-limit.description\",\"isCancelable\":false,\"icon\":null,\"quantity\":1,\"isApplied\":true,\"isAvailable\":false,\"isVisibleInCabinet\":false,\"advertId\":1000906432,\"advertStorage\":\"live\",\"freeLockTime\":\"меньше часа\",\"freeLockTimeSec\":0,\"buttonText\":\"55 объявлений по 24 〒\",\"additionalButtonText\":\"\",\"unavailableMessage\":\"Услуга недоступна для этого объявления.\"},\"pack-100-limit\":{\"name\":\"pack-100-limit\",\"apiName\":\"pack-100-limit\",\"successMessage\":\"Куплен пакет «100 размещений» на неделю в «Продажа» Алматы\",\"cancelMessage\":null,\"cancelTitle\":null,\"price\":1900,\"title\":\"100 объявлений сверх лимита\",\"description\":\"paidServices.pack-100-limit.description\",\"isCancelable\":false,\"icon\":null,\"quantity\":1,\"isApplied\":true,\"isAvailable\":false,\"isVisibleInCabinet\":false,\"advertId\":1000906432,\"advertStorage\":\"live\",\"freeLockTime\":\"меньше часа\",\"freeLockTimeSec\":0,\"buttonText\":\"100 объявлений по 19 〒\",\"additionalButtonText\":\"\",\"unavailableMessage\":\"Услуга недоступна для этого объявления.\"},\"saved-search\":{\"name\":\"saved-search\",\"apiName\":\"saved-search\",\"successMessage\":\"paidServices.saved-search.successMessage\",\"cancelMessage\":null,\"cancelTitle\":null,\"price\":950,\"title\":\"Подписка на поиск\",\"description\":\"paidServices.saved-search.description\",\"isCancelable\":false,\"icon\":\"\",\"quantity\":1,\"isApplied\":false,\"isAvailable\":false,\"isVisibleInCabinet\":false,\"advertId\":1000906432,\"advertStorage\":\"live\",\"freeLockTime\":\"меньше часа\",\"freeLockTimeSec\":0,\"buttonText\":\"Подписка на поиск\",\"additionalButtonText\":\"\",\"unavailableMessage\":\"Услуга недоступна для этого объявления.\"},\"top-day\":{\"name\":\"top-day\",\"apiName\":\"top-day\",\"successMessage\":\"Подключен пакет ТОП на сутки\",\"cancelMessage\":null,\"cancelTitle\":null,\"price\":3200,\"title\":\"Акция ТОП на сутки\",\"description\":\"Выше всех каждые 2 часа, 8 раз в ТОП, Поднятия происходят с 8:00 до 23:45, Действует сутки с момента покупки\",\"isCancelable\":false,\"icon\":null,\"quantity\":1,\"isApplied\":false,\"isAvailable\":true,\"isVisibleInCabinet\":true,\"advertId\":1000906432,\"advertStorage\":\"live\",\"freeLockTime\":\"меньше часа\",\"freeLockTimeSec\":0,\"buttonText\":\"Отправить 8 раз в ТОП\",\"additionalButtonText\":\"\",\"unavailableMessage\":\"Услуга недоступна для этого объявления.\",\"defaultPrice\":4000,\"savingText\":\"Экономия 800&nbsp;<span class=\\\"currency-sign offer__currency\\\">〒</span>\",\"discount\":{\"percent\":20,\"value\":3200},\"descriptionList\":[\"Выше всех каждые 2 часа\",\"8 раз в ТОП\",\"Поднятия происходят с 8:00 до 23:45\",\"Действует сутки с момента покупки\"],\"shortButtonText\":\"Отправить 8 раз в ТОП за 3200 〒\",\"dayPrice\":3200,\"labels\":[]},\"month-sale\":{\"name\":\"month-sale\",\"apiName\":\"month-sale\",\"successMessage\":\"Подключен пакет ×15 просмотров\",\"cancelMessage\":null,\"cancelTitle\":null,\"price\":7095,\"title\":\"×15 просмотров на месяц\",\"description\":\"28 дней активного продвижения, Каждый день поднятие в ТОП, 12 раз в Горячих\",\"isCancelable\":false,\"icon\":null,\"quantity\":1,\"isApplied\":false,\"isAvailable\":true,\"isVisibleInCabinet\":true,\"advertId\":1000906432,\"advertStorage\":\"live\",\"freeLockTime\":\"меньше часа\",\"freeLockTimeSec\":0,\"buttonText\":\"Продвинуть\",\"additionalButtonText\":\"\",\"unavailableMessage\":\"Услуга недоступна для этого объявления.\",\"defaultPrice\":20050,\"savingText\":\"Экономия 12&nbsp;955&nbsp;<span class=\\\"currency-sign offer__currency\\\">〒</span>\",\"discount\":{\"percent\":64,\"value\":7095},\"descriptionList\":[\"28 дней активного продвижения\",\"Каждый день поднятие в ТОП\",\"12 раз в Горячих\"],\"shortButtonText\":\"Продвигать за 254 〒 в день\",\"dayPrice\":254,\"labels\":[]},\"week-sale\":{\"name\":\"week-sale\",\"apiName\":\"week-sale\",\"successMessage\":\"Подключен пакет ×5 просмотров\",\"cancelMessage\":null,\"cancelTitle\":null,\"price\":3390,\"title\":\"×5 просмотров на неделю\",\"description\":\"7 дней активного продвижения, Каждый день поднятие в ТОП, Каждый день в Горячих\",\"isCancelable\":false,\"icon\":null,\"quantity\":1,\"isApplied\":false,\"isAvailable\":true,\"isVisibleInCabinet\":true,\"advertId\":1000906432,\"advertStorage\":\"live\",\"freeLockTime\":\"меньше часа\",\"freeLockTimeSec\":0,\"buttonText\":\"Продвинуть\",\"additionalButtonText\":\"\",\"unavailableMessage\":\"Услуга недоступна для этого объявления.\",\"defaultPrice\":6440,\"savingText\":\"Экономия 3&nbsp;050&nbsp;<span class=\\\"currency-sign offer__currency\\\">〒</span>\",\"discount\":{\"percent\":47,\"value\":3390},\"descriptionList\":[\"7 дней активного продвижения\",\"Каждый день поднятие в ТОП\",\"Каждый день в Горячих\"],\"shortButtonText\":\"Продвигать за 485 〒 в день\",\"dayPrice\":485,\"labels\":[]}}}],\"analysisUrl\":\"/analytics/aPriceAnalysis/\",\"platform\":\"desktop\",\"utm\":\"\",\"phonesUrl\":\"/a/ajaxPhones?id=1000906432\",\"claims\":{\"getReasonsUrl\":\"/claim/ajaxGetReasons/\"},\"agent\":{\"landingUrl\":\"https://krisha.kz/agents/buy?from=advert&geoId=73\",\"getReasonsUrl\":\"/agent/ajaxGetReasons/\"},\"creditIsEnabled\":false,\"creditInfo\":null,\"user\":{\"phones\":{\"main\":null},\"accountFill\":null,\"balanceAmount\":0,\"email\":null,\"globalId\":null,\"hasActiveSubscription\":false,\"id\":null,\"identificationInfo\":null,\"isAgent\":false,\"isBuilder\":false,\"isBuilderOrComplex\":false,\"isCompany\":false,\"isComplex\":false,\"isGuest\":true,\"isIdentified\":false,\"isOwner\":false,\"isPro\":false,\"isSpecialist\":false,\"isStatusVerified\":false,\"locale\":\"\",\"logoImg\":null,\"name\":null,\"type\":null,\"typeAlias\":null,\"xdmAssetUrl\":\"https://id.kolesa.kz/authToken.js\"},\"settings\":{\"showTextTranslation\":true},\"searchAnalytics\":null,\"dGisRegions\":[{\"name\":\"Алматы\",\"bounds\":[[43.311356,76.721521],[43.366891,76.698817],[43.442281,76.69697],[43.495902,76.773217],[43.478949,76.887808],[43.491006,76.919061],[43.461021,76.964974],[43.475405,77.024019],[43.468224,77.071052],[43.420876,77.111197],[43.384974,77.092545],[43.350398,77.121697],[43.288623,77.130764],[43.243627,77.160741],[43.073856,77.107785],[43.070938,77.089632],[43.034066,77.077184],[43.049618,76.966515],[43.033771,76.943479],[43.037882,76.906183],[43.083947,76.900697],[43.103095,76.741722],[43.167253,76.70909],[43.311356,76.721521]]},{\"name\":\"Астана\",\"bounds\":[[50.949137,71.25763],[51.015405,71.15911],[51.259035,71.127413],[51.306666,71.33122],[51.331666,71.641526],[51.378815,71.718671],[51.217734,71.842987],[51.02963,71.87991],[50.971068,71.86563],[50.928205,71.609524],[50.949137,71.25763]]},{\"name\":\"Караганда\",\"bounds\":[[49.97048,72.86687],[50.031985,72.864145],[50.071579,72.830379],[50.132364,72.835457],[50.159294,72.846029],[50.192972,72.930852],[50.170885,73.145574],[50.157115,73.166584],[50.153223,73.353485],[50.005306,73.413468],[49.686854,73.38921],[49.65147,73.2999],[49.637712,73.198415],[49.688026,72.861947],[49.738372,72.877067],[49.97048,72.86687]]},{\"name\":\"Павлодар\",\"bounds\":[[52.214201,77.223834],[52.014535,77.241662],[51.991758,76.992875],[51.989277,76.9173],[52.020351,76.769674],[52.166653,76.660819],[52.180226,76.600238],[52.229329,76.645111],[52.439188,76.675924],[52.479541,76.992228],[52.446979,77.235345],[52.214201,77.223834]]},{\"name\":\"Уральск\",\"bounds\":[[51.248864,51.568736],[51.225437,51.580605],[51.155685,51.56813],[51.03227,51.241077],[51.048987,51.217932],[51.217896,51.272711],[51.243037,51.258108],[51.293382,51.265796],[51.295239,51.323377],[51.31411,51.353126],[51.281324,51.446775],[51.289132,51.535491],[51.248864,51.568736]]},{\"name\":\"Усть-Каменогорск\",\"bounds\":[[49.798516,82.661138],[49.841691,82.545707],[49.846928,82.44862],[49.92013,82.392522],[49.961702,82.454],[50.045936,82.43318],[50.059192,82.450724],[50.057306,82.715976],[50.028657,82.806336],[50.00252,82.796278],[49.864261,82.911019],[49.819293,82.904611],[49.801722,82.95274],[49.761077,82.980783],[49.762443,82.834545],[49.798516,82.661138]]},{\"name\":\"Шымкент\",\"bounds\":[[42.43852,69.416245],[42.436468,69.802137],[42.242484,69.799675],[42.244521,69.414967],[42.43852,69.416245]]},{\"name\":\"Петропавловск\",\"bounds\":[[54.952036,69.347885],[54.797665,69.266608],[54.763737,69.198513],[54.847098,68.951741],[54.879526,68.973207],[54.883477,68.994401],[54.922347,68.995059],[54.982374,69.075263],[54.996193,69.147545],[54.952036,69.347885]]},{\"name\":\"Костанай\",\"bounds\":[[53.081786,63.570864],[53.060798,63.541088],[53.101271,63.459462],[53.125499,63.510712],[53.201547,63.455974],[53.216818,63.485376],[53.256371,63.484464],[53.31686,63.624834],[53.291543,63.646629],[53.288387,63.746165],[53.161294,63.629891],[53.157604,63.673836],[53.081786,63.570864]]},{\"name\":\"Кокшетау\",\"bounds\":[[53.276659,69.004116],[53.318062,68.997167],[53.327877,69.167949],[53.39313,69.161429],[53.383133,69.274826],[53.397231,69.277034],[53.404166,69.315124],[53.370948,69.327714],[53.365164,69.426323],[53.377566,69.615022],[53.305991,69.762747],[53.20418,69.867178],[53.155209,70.039459],[53.165043,70.24582],[53.153623,70.368026],[53.116561,70.404051],[52.928993,70.478959],[52.871445,70.201804],[52.895084,70.179755],[52.904612,70.141435],[52.819776,69.911928],[52.812507,69.682352],[52.828986,69.557302],[52.938954,69.320958],[52.881871,69.146486],[52.910955,69.012816],[53.140112,69.147482],[53.224041,69.27637],[53.225447,69.012491],[53.276659,69.004116]]},{\"name\":\"Атырау\",\"bounds\":[[47.15804,51.81079],[47.185327,51.773854],[47.206253,51.783515],[47.218498,51.838706],[47.208672,51.861149],[47.175483,51.876595],[47.184051,51.983982],[47.159303,52.057235],[47.149367,52.067301],[47.140455,52.044594],[47.121763,52.046404],[47.095943,52.091744],[47.045744,51.972771],[47.054367,51.928291],[47.009789,51.917185],[47.012164,51.882894],[47.039007,51.873782],[47.008341,51.837904],[47.013373,51.823097],[47.05764,51.852235],[47.049269,51.819873],[47.104107,51.780297],[47.15804,51.81079]]},{\"name\":\"Актобе\",\"bounds\":[[50.565431,57.131233],[50.584455,57.29241],[50.522876,57.319324],[50.507563,57.456565],[50.537321,57.508771],[50.489218,57.653998],[50.502943,57.702377],[50.488773,57.760821],[50.410886,57.770117],[50.374648,57.71458],[50.353087,57.76243],[50.330205,57.773313],[50.275572,57.744175],[50.257032,57.755202],[50.241394,57.669871],[50.19675,57.687866],[50.188895,57.573892],[50.169447,57.558014],[50.121144,57.425888],[50.120826,57.148367],[50.152601,56.977926],[50.21554,56.914478],[50.275119,56.94188],[50.313889,56.88205],[50.343913,56.862849],[50.3877,56.861403],[50.556581,57.073194],[50.565431,57.131233]]},{\"name\":\"Актау\",\"bounds\":[[43.559453,50.989242],[43.960347,50.700278],[44.143806,50.548767],[44.173939,50.310331],[44.240731,50.159119],[44.316906,50.077464],[44.386403,50.050169],[44.549467,50.033572],[44.758753,49.924839],[44.834275,49.858647],[44.920822,49.815392],[45.023361,49.816353],[45.094706,49.847194],[45.134367,49.8831],[45.186872,50.017069],[45.198264,50.314389],[45.185556,50.4106],[45.080803,50.707747],[45.115622,50.871631],[45.264022,51.078633],[45.462642,51.269189],[45.507019,51.342392],[45.592703,51.730008],[45.534531,52.155669],[45.552439,52.290372],[45.607825,52.471922],[45.719714,52.541508],[46.091373,53.021861],[46.012055,53.191789],[46.0156,53.684004],[46.127348,53.895303],[46.192437,53.968557],[46.24613,53.971735],[46.257033,54.30769],[46.30105,54.504746],[46.323051,54.692764],[46.363543,54.832578],[46.379528,55.089586],[46.367362,55.270475],[46.520131,55.487919],[46.421094,55.602653],[46.419648,55.657382],[46.399684,55.698046],[46.401193,55.81798],[46.349698,55.824929],[46.305272,55.860157],[46.276012,55.820425],[46.251191,55.837026],[46.237314,55.90249],[46.260008,55.95692],[46.210459,55.981457],[46.211476,56.04476],[46.154545,56.121737],[46.135755,56.201516],[46.151583,56.286168],[46.132189,56.46663],[46.097356,56.516505],[46.005868,56.552526],[45.926133,56.605778],[45.177249,56.744109],[45.000314,55.998743],[41.324124,56.001508],[41.331786,55.876714],[41.297155,55.816356],[41.278338,55.811717],[41.302058,55.743336],[41.293192,55.721496],[41.279493,55.727086],[41.282813,55.63561],[41.246392,55.603316],[41.272913,55.600034],[41.27195,55.576874],[41.294407,55.567019],[41.287966,55.545235],[41.27561,55.557026],[41.259293,55.542728],[41.251587,55.499612],[41.269299,55.450623],[41.293651,55.442191],[41.279495,55.430472],[41.337222,55.398313],[41.390882,55.315465],[41.604653,55.119606],[41.699339,55.066234],[41.833213,54.949976],[41.906308,54.952115],[41.928325,54.928925],[42.052549,54.779482],[42.379087,54.21781],[42.288924,53.570558],[42.121175,52.984788],[41.761967,52.449984],[41.719338,52.335076],[41.724447,52.259144],[42.117106,52.229019],[42.212153,52.258633],[42.469697,52.440644],[42.601758,52.392847],[42.6508,52.195397],[42.695872,51.836542],[42.757403,51.737094],[42.893483,51.635567],[42.967481,51.557783],[43.003889,51.262286],[43.05145,51.132642],[43.123231,51.077578],[43.160703,51.071017],[43.450783,51.096811],[43.559453,50.989242]]}],\"crime\":{\"api\":\"https://krisha.kz/ms/geodata/crime\",\"button\":\"Преступность\",\"title\":\"Показатели преступности\"},\"svgIconsUrl\":\"//krisha.kz/static/frontend/svg/sprite-icons.46cb8a4fcd0a1b091d4d.svg\",\"app\":\"Frontend\",\"baseHostname\":\"krisha.kz\",\"mobileHostname\":\"m.krisha.kz\",\"cookieDomain\":\".krisha.kz\",\"isRemoteResourcesEnabled\":true,\"isDebug\":false,\"isWebView\":false,\"route\":\"a:show\",\"controller\":\"a\",\"action\":\"show\",\"ab\":[],\"isFavoritesEnabled\":true,\"photoHost\":\"krisha-photos.kcdn.online\",\"views\":{\"host\":\"http://views:8080\",\"location\":\"ms/views\"},\"centrifuge\":{\"url\":\"wss://ws.krisha.kz/v2/connection/websocket\"},\"config\":{\"isProduction\":true,\"isDevelopment\":false,\"isTesting\":false,\"sentry\":{\"isEnabled\":true,\"blackList\":\"closest, window.Ya.adfoxCode, adFoxAdaptive, NS_ERROR_STORAGE_IOERR, enterprise\"},\"bucky\":{\"host\":\"/ms/rum\",\"aggregationInterval\":100,\"sample\":10},\"photosCDN\":{\"cookieName\":\"kr_cdn_host\",\"defaultHost\":\"krisha-photos.kcdn.online\"},\"staticLink\":\"//krisha.kz/static/frontend\",\"nps\":{\"url\":\"https://krisha.kz/ms/nps/v2\"},\"yandexMaps\":{\"apiKey\":\"8005a76b-66c7-44b3-8f94-355bbff74d27\"},\"eventStream\":{\"hostsEndpoint\":\"https://app.krisha.kz/events.json\",\"topic\":\"krisha-frontend-user-events-prod\"},\"region\":{\"autocompleteUrl\":\"/region/ajaxAutocomplete\",\"parentChainUrl\":\"/region/ajaxParentChain\"}},\"appUrl\":\"https://app.krisha.kz\",\"appToken\":\"OwpG9zwkfFs1Xevt830HcGzIf6yfFP8C9CKw0PLkjVA7TEOEZ9rzftvvy654qOwZxuKxTIIqRohZFMDbwa4If7oMhO67Ops9qRC34DP1oOpI7sRLEWXrlPWLrglUFGpKVM5%2FCjQaVj0KHLURHqRGq6aeciiqlmeXwxXum3curNGn9paWtjG8QtHsYRHr2QrP7jovVUV6ZRnkT%2BJxuZnAI6oH%2FxUBlMjYPzgpUu%2FDtn0%3D\"};\n",
      "43.206244\n",
      "76.903154\n"
     ]
    }
   ],
   "source": [
    "print(a)\n",
    "# \"lat\":43.206244,\"lon\":76.903154,\"zoom\":14\n",
    "print(a[a.find('lat') + 5:a.find(',\"lon\"')])\n",
    "print(a[a.find('lon') + 5:a.find(',\"zoom\"')])"
   ]
  },
  {
   "cell_type": "code",
   "execution_count": 13,
   "id": "83db05d1",
   "metadata": {},
   "outputs": [],
   "source": [
    "def parse_offer_page(url, proxies=None, headers=None):\n",
    "    \n",
    "    # Get the the page sourse\n",
    "    response = requests.get(url, proxies=proxies, headers=headers)\n",
    "    if response.status_code != 200:\n",
    "        raise Exception(f\"Failed to load page: {url}\")\n",
    "\n",
    "    # Parse HTML content\n",
    "    soup = BeautifulSoup(response.text, 'html.parser')\n",
    "    \n",
    "    result = {\"Link\": url}\n",
    "    \n",
    "    coord = soup.find('script', id='jsdata')\n",
    "    if coord:\n",
    "        a = coord.get_text(strip=True)\n",
    "        \n",
    "        result['lat'] = a[a.find('lat') + 5:a.find(',\"lon\"')]\n",
    "        result['lon'] = a[a.find('lon') + 5:a.find(',\"zoom\"')]\n",
    "    \n",
    "    # Extract price\n",
    "    price_div = soup.find('div', class_=\"offer__price\")\n",
    "    if price_div:\n",
    "        t_price = price_div.get_text(strip=True)\n",
    "        # t_price = t_price.replace(\"&nbsp;\", \"\").strip()\n",
    "        result['Price'] = t_price\n",
    "\n",
    "    # Extract info items\n",
    "    short_description = soup.find('div', class_='offer__short-description')\n",
    "    if short_description:\n",
    "        for item in short_description.find_all('div', class_='offer__info-item'):\n",
    "            title_div = item.find('div', class_='offer__info-title')\n",
    "            value_div = item.find('div', class_='offer__advert-short-info')\n",
    "\n",
    "            if title_div and value_div:\n",
    "                key = title_div.get_text(strip=True)\n",
    "                value = value_div.get_text(strip=True)\n",
    "                result[key] = value\n",
    "\n",
    "    # Extract description\n",
    "    description_div = soup.find('div', class_='js-description a-text a-text-white-spaces')\n",
    "    if description_div:\n",
    "        result['Описание'] = description_div.get_text(strip=True)\n",
    "\n",
    "    return result"
   ]
  },
  {
   "cell_type": "code",
   "execution_count": 14,
   "id": "d201fa88",
   "metadata": {},
   "outputs": [
    {
     "data": {
      "text/plain": [
       "{'Link': 'https://krisha.kz/a/show/1001366917?srchid=0196c698-0172-717b-85cd-96c79051ec14&srchtype=filter&srchpos=40077',\n",
       " 'lat': '53.142654',\n",
       " 'lon': '63.62026',\n",
       " 'Price': '7\\xa0300\\xa0000〒',\n",
       " 'Город': 'Алтынсарино (Костанайский район), Костанайская обл.показать на карте',\n",
       " 'Площадь участка': '14 соток',\n",
       " 'Делимость': 'делимый',\n",
       " 'Местоположение': 'в пригороде',\n",
       " 'Целевое назначение': 'ИЖС (индивидуальное жилищное строительство)',\n",
       " 'Коммуникации': 'свет, вода, газ, канализация, отопление, вентиляция',\n",
       " 'Возможен обмен': 'Нет',\n",
       " 'Описание': 'Фундамент, удобный въезд, выкуплен, все документы.\\n\\nПродается земельный участок в Мичуринском сельском округе, с. Алтынсарино, Альжанка, в 5 км от города со стороны КЖБИ. Земельный участок - 0, 1417 Га, это 14, 5 соток. Участок расположен на центральной улице. Целевое назначение для строительства индивидуальных жилых домов. На участке вырыт котлован, положен фундамент. Так же лежат плиты для строительства дома. Стройматериалы в продаже по договоренности. Участок делимый. Рядом строятся дома. Вода, свет, газ проходит вдоль участка. Все можно по необходимости завести на участок. Участок квадратный. Вокруг очень красиво, растут сосны. В шаговой доступности мечеть, магазины, неподалеку находится местная школа. Сам поселок очень тихий, находится на возвышенности. Хорошо виден город Костанай. Участок в частной собственности. Один собственник. Не в залоге. Документы все в порядке. Торг уместен. Звоните, покажем вам расположение участка.'}"
      ]
     },
     "execution_count": 14,
     "metadata": {},
     "output_type": "execute_result"
    }
   ],
   "source": [
    "parse_offer_page(\"https://krisha.kz/a/show/1001366917?srchid=0196c698-0172-717b-85cd-96c79051ec14&srchtype=filter&srchpos=40077\")"
   ]
  },
  {
   "cell_type": "code",
   "execution_count": 21,
   "id": "314ffe26",
   "metadata": {},
   "outputs": [
    {
     "name": "stdout",
     "output_type": "stream",
     "text": [
      "parsing links from path: ../parsing_results/output_links_270525.csv\n",
      "starting from 23000 th line\n"
     ]
    },
    {
     "name": "stderr",
     "output_type": "stream",
     "text": [
      "100%|██████████| 8727/8727 [3:17:58<00:00,  1.36s/it]   \n"
     ]
    }
   ],
   "source": [
    "import json\n",
    "\n",
    "import logging\n",
    "logging.basicConfig(level=logging.INFO, filename=\"log/py_log.log\", filemode=\"a\", format=\"%(asctime)s %(levelname)s %(message)s\")\n",
    "\n",
    "\n",
    "\n",
    "data = []\n",
    "link_srourse_file = '../parsing_results/output_links_270525.csv'\n",
    "links_df = pd.read_csv(link_srourse_file)\n",
    "links = list(links_df['Link'])\n",
    "print(f'parsing links from path: {link_srourse_file}')\n",
    "\n",
    "\n",
    "erro_pages = []\n",
    "\n",
    "\n",
    "start = len(os.listdir('../parsing_results/json')) * BATCH_SIZE \n",
    "print(f'starting from {start} th line')\n",
    "end = len(links)\n",
    "\n",
    "for i in tqdm(range(start, end)):\n",
    "    url = links[i]\n",
    "    t_data = {}\n",
    "    try:\n",
    "        result = parse_offer_page(url)\n",
    "        t_data['link'] = result[\"Link\"]\n",
    "        t_data['price'] = result['Price'] if 'Price' in result.keys() else None\n",
    "        t_data['city'] = result['Город'] if 'Город' in result.keys() else None\n",
    "        t_data['area'] = result['Площадь участка'] if 'Площадь участка' in result.keys() else None\n",
    "        t_data['devidable'] = result['Делимость'] if 'Делимость' in result.keys() else None\n",
    "        t_data['location'] = result['Местоположение'] if 'Местоположение' in result.keys() else None\n",
    "        t_data['intended_purpose'] = result['Целевое назначение'] if 'Целевое назначение' in result.keys() else None\n",
    "        t_data['communications'] = result['Коммуникации'] if 'Коммуникации' in result.keys() else None\n",
    "        t_data['description'] = result['Описание'] if 'Описание' in result.keys() else None\n",
    "        t_data['lat'] = result['lat'] if 'lat' in result.keys() else None\n",
    "        t_data['lon'] = result['lon'] if 'lon' in result.keys() else None\n",
    "        data.append(t_data)\n",
    "        time.sleep(1)\n",
    "        \n",
    "        if i % BATCH_SIZE == 0 and i != 0:\n",
    "            with open(f\"../parsing_results/json/for_hb_{i // BATCH_SIZE}.json\", \"w\", encoding=\"utf-8\") as f:\n",
    "                json.dump(data, f, ensure_ascii=False, indent=4)\n",
    "            data = []\n",
    "    except Exception as e:\n",
    "        logging.error(e)\n",
    "        erro_pages.append(url)\n",
    "\n",
    "with open(\"../parsing_results/json/for_hb_last.json\", \"w\", encoding=\"utf-8\") as f:\n",
    "    json.dump(data, f, ensure_ascii=False, indent=4)\n",
    "    \n",
    "with open(\"non_valid_links.csv\", mode='w', newline='', encoding='utf-8') as file:\n",
    "    writer = csv.writer(file)\n",
    "    \n",
    "    for link in erro_pages:\n",
    "        writer.writerow([link])\n",
    "    \n",
    "    "
   ]
  },
  {
   "cell_type": "code",
   "execution_count": 22,
   "id": "7266946c",
   "metadata": {},
   "outputs": [
    {
     "data": {
      "text/plain": [
       "314"
      ]
     },
     "execution_count": 22,
     "metadata": {},
     "output_type": "execute_result"
    }
   ],
   "source": [
    "len(os.listdir('../parsing_results/json'))"
   ]
  },
  {
   "cell_type": "code",
   "execution_count": null,
   "id": "c96ffaae",
   "metadata": {},
   "outputs": [
    {
     "name": "stderr",
     "output_type": "stream",
     "text": [
      "100%|██████████| 314/314 [00:06<00:00, 47.47it/s]\n"
     ]
    },
    {
     "name": "stdout",
     "output_type": "stream",
     "text": [
      "(30819, 11)\n",
      "<class 'pandas.core.frame.DataFrame'>\n",
      "RangeIndex: 30819 entries, 0 to 30818\n",
      "Data columns (total 11 columns):\n",
      " #   Column            Non-Null Count  Dtype \n",
      "---  ------            --------------  ----- \n",
      " 0   link              30819 non-null  object\n",
      " 1   price             30819 non-null  object\n",
      " 2   city              30819 non-null  object\n",
      " 3   area              30817 non-null  object\n",
      " 4   devidable         19521 non-null  object\n",
      " 5   location          24421 non-null  object\n",
      " 6   intended_purpose  25170 non-null  object\n",
      " 7   communications    20053 non-null  object\n",
      " 8   description       29886 non-null  object\n",
      " 9   lat               30819 non-null  object\n",
      " 10  lon               30819 non-null  object\n",
      "dtypes: object(11)\n",
      "memory usage: 2.6+ MB\n"
     ]
    }
   ],
   "source": [
    "root = '../parsing_results/json'\n",
    "df = pd.DataFrame()\n",
    "for file in tqdm(os.listdir(root)):\n",
    "    # print(file)\n",
    "    df = pd.concat([df, pd.read_json(f'{root}/{file}', orient='records')], ignore_index=True)\n",
    "    \n",
    "print(df.shape)\n",
    "df.to_json('../paring_results/for_hb_final_records.json', orient='records', index=False, indent=4, force_ascii=False)\n",
    "df.info()"
   ]
  },
  {
   "cell_type": "code",
   "execution_count": null,
   "id": "426e199f",
   "metadata": {},
   "outputs": [
    {
     "data": {
      "text/html": [
       "<div>\n",
       "<style scoped>\n",
       "    .dataframe tbody tr th:only-of-type {\n",
       "        vertical-align: middle;\n",
       "    }\n",
       "\n",
       "    .dataframe tbody tr th {\n",
       "        vertical-align: top;\n",
       "    }\n",
       "\n",
       "    .dataframe thead th {\n",
       "        text-align: right;\n",
       "    }\n",
       "</style>\n",
       "<table border=\"1\" class=\"dataframe\">\n",
       "  <thead>\n",
       "    <tr style=\"text-align: right;\">\n",
       "      <th></th>\n",
       "      <th>link</th>\n",
       "      <th>price</th>\n",
       "      <th>city</th>\n",
       "      <th>area</th>\n",
       "      <th>devidable</th>\n",
       "      <th>location</th>\n",
       "      <th>intended_purpose</th>\n",
       "      <th>communications</th>\n",
       "      <th>description</th>\n",
       "    </tr>\n",
       "  </thead>\n",
       "  <tbody>\n",
       "    <tr>\n",
       "      <th>0</th>\n",
       "      <td>https://krisha.kz/a/show/1000787198?srchid=019...</td>\n",
       "      <td>107 000 000〒</td>\n",
       "      <td>Казахстан, Алматинская обл.показать на карте</td>\n",
       "      <td>635 соток</td>\n",
       "      <td>делимый</td>\n",
       "      <td>в пригороде</td>\n",
       "      <td>КХ (крестьянское/фермерское хозяйство)</td>\n",
       "      <td>свет, вода, газ</td>\n",
       "      <td>Ровный, удобный въезд, выкуплен, все документы...</td>\n",
       "    </tr>\n",
       "    <tr>\n",
       "      <th>1</th>\n",
       "      <td>https://krisha.kz/a/show/1001554653?srchid=019...</td>\n",
       "      <td>20 000 000〒</td>\n",
       "      <td>Уральск, Западно-Казахстанская обл.показать на...</td>\n",
       "      <td>8 га</td>\n",
       "      <td>None</td>\n",
       "      <td>None</td>\n",
       "      <td>None</td>\n",
       "      <td>None</td>\n",
       "      <td>Продаётся земельный участок — 8 соток \\nРайон ...</td>\n",
       "    </tr>\n",
       "    <tr>\n",
       "      <th>2</th>\n",
       "      <td>https://krisha.kz/a/show/1000265732?srchid=019...</td>\n",
       "      <td>7 600 000〒</td>\n",
       "      <td>Шымкент, Абайский р-нпоказать на карте</td>\n",
       "      <td>8 соток</td>\n",
       "      <td>делимый</td>\n",
       "      <td>в городе, вдоль трассы</td>\n",
       "      <td>ИЖС (индивидуальное жилищное строительство)</td>\n",
       "      <td>свет, вода, газ, канализация, вентиляция</td>\n",
       "      <td>Ровный, удобный въезд, выкуплен, госакт, все д...</td>\n",
       "    </tr>\n",
       "    <tr>\n",
       "      <th>3</th>\n",
       "      <td>https://krisha.kz/a/show/1001240202?srchid=019...</td>\n",
       "      <td>2 000 000〒</td>\n",
       "      <td>Актобе, жилой массив Рауанпоказать на карте</td>\n",
       "      <td>11.24 соток</td>\n",
       "      <td>неделимый</td>\n",
       "      <td>в пригороде</td>\n",
       "      <td>ИЖС (индивидуальное жилищное строительство)</td>\n",
       "      <td>свет, вода, газ</td>\n",
       "      <td>Ровный, удобный въезд, госакт, все документы, ...</td>\n",
       "    </tr>\n",
       "    <tr>\n",
       "      <th>4</th>\n",
       "      <td>https://krisha.kz/a/show/1001553986?srchid=019...</td>\n",
       "      <td>2 200 000〒</td>\n",
       "      <td>Жамбыл (Жамбылский район), Алматинская обл.пок...</td>\n",
       "      <td>20000 га</td>\n",
       "      <td>делимый</td>\n",
       "      <td>в пригороде, вдоль трассы</td>\n",
       "      <td>ИЖС (индивидуальное жилищное строительство)</td>\n",
       "      <td>свет, вода</td>\n",
       "      <td>Ровный.\\n\\n1000.0 шаршы метрден 2 жер телімі қ...</td>\n",
       "    </tr>\n",
       "  </tbody>\n",
       "</table>\n",
       "</div>"
      ],
      "text/plain": [
       "                                                link         price  \\\n",
       "0  https://krisha.kz/a/show/1000787198?srchid=019...  107 000 000〒   \n",
       "1  https://krisha.kz/a/show/1001554653?srchid=019...   20 000 000〒   \n",
       "2  https://krisha.kz/a/show/1000265732?srchid=019...    7 600 000〒   \n",
       "3  https://krisha.kz/a/show/1001240202?srchid=019...    2 000 000〒   \n",
       "4  https://krisha.kz/a/show/1001553986?srchid=019...    2 200 000〒   \n",
       "\n",
       "                                                city         area  devidable  \\\n",
       "0       Казахстан, Алматинская обл.показать на карте    635 соток    делимый   \n",
       "1  Уральск, Западно-Казахстанская обл.показать на...         8 га       None   \n",
       "2             Шымкент, Абайский р-нпоказать на карте      8 соток    делимый   \n",
       "3        Актобе, жилой массив Рауанпоказать на карте  11.24 соток  неделимый   \n",
       "4  Жамбыл (Жамбылский район), Алматинская обл.пок...     20000 га    делимый   \n",
       "\n",
       "                    location                             intended_purpose  \\\n",
       "0                в пригороде       КХ (крестьянское/фермерское хозяйство)   \n",
       "1                       None                                         None   \n",
       "2     в городе, вдоль трассы  ИЖС (индивидуальное жилищное строительство)   \n",
       "3                в пригороде  ИЖС (индивидуальное жилищное строительство)   \n",
       "4  в пригороде, вдоль трассы  ИЖС (индивидуальное жилищное строительство)   \n",
       "\n",
       "                             communications  \\\n",
       "0                           свет, вода, газ   \n",
       "1                                      None   \n",
       "2  свет, вода, газ, канализация, вентиляция   \n",
       "3                           свет, вода, газ   \n",
       "4                                свет, вода   \n",
       "\n",
       "                                         description  \n",
       "0  Ровный, удобный въезд, выкуплен, все документы...  \n",
       "1  Продаётся земельный участок — 8 соток \\nРайон ...  \n",
       "2  Ровный, удобный въезд, выкуплен, госакт, все д...  \n",
       "3  Ровный, удобный въезд, госакт, все документы, ...  \n",
       "4  Ровный.\\n\\n1000.0 шаршы метрден 2 жер телімі қ...  "
      ]
     },
     "execution_count": 2,
     "metadata": {},
     "output_type": "execute_result"
    }
   ],
   "source": [
    "# df = pd.read_json('../parsing_results/for_hb_final_records.json', orient='records')\n",
    "# df.head()"
   ]
  },
  {
   "cell_type": "code",
   "execution_count": 4,
   "id": "b94fd613",
   "metadata": {},
   "outputs": [
    {
     "data": {
      "text/plain": [
       "(30819, 11)"
      ]
     },
     "execution_count": 4,
     "metadata": {},
     "output_type": "execute_result"
    }
   ],
   "source": [
    "df.shape"
   ]
  },
  {
   "cell_type": "code",
   "execution_count": 5,
   "id": "fc787ecf",
   "metadata": {},
   "outputs": [],
   "source": [
    "df.to_excel('../parsing_results/for_hb_final_30800.xlsx', index=False)"
   ]
  },
  {
   "cell_type": "code",
   "execution_count": null,
   "id": "5edfa164",
   "metadata": {},
   "outputs": [],
   "source": []
  },
  {
   "cell_type": "code",
   "execution_count": null,
   "id": "0efc5d91",
   "metadata": {},
   "outputs": [],
   "source": []
  },
  {
   "cell_type": "code",
   "execution_count": null,
   "id": "06c283ef",
   "metadata": {},
   "outputs": [],
   "source": []
  },
  {
   "cell_type": "code",
   "execution_count": null,
   "id": "129d7650",
   "metadata": {},
   "outputs": [],
   "source": []
  },
  {
   "cell_type": "code",
   "execution_count": null,
   "id": "91980a28",
   "metadata": {},
   "outputs": [],
   "source": []
  },
  {
   "cell_type": "code",
   "execution_count": null,
   "id": "a0d4efdf",
   "metadata": {},
   "outputs": [],
   "source": []
  },
  {
   "cell_type": "code",
   "execution_count": null,
   "id": "acdeb8f2",
   "metadata": {},
   "outputs": [],
   "source": []
  },
  {
   "cell_type": "code",
   "execution_count": null,
   "id": "224a2db9",
   "metadata": {},
   "outputs": [],
   "source": []
  },
  {
   "cell_type": "code",
   "execution_count": null,
   "id": "b188db7e",
   "metadata": {},
   "outputs": [],
   "source": []
  }
 ],
 "metadata": {
  "kernelspec": {
   "display_name": "VenvForHPE",
   "language": "python",
   "name": "python3"
  },
  "language_info": {
   "codemirror_mode": {
    "name": "ipython",
    "version": 3
   },
   "file_extension": ".py",
   "mimetype": "text/x-python",
   "name": "python",
   "nbconvert_exporter": "python",
   "pygments_lexer": "ipython3",
   "version": "3.12.2"
  }
 },
 "nbformat": 4,
 "nbformat_minor": 5
}
